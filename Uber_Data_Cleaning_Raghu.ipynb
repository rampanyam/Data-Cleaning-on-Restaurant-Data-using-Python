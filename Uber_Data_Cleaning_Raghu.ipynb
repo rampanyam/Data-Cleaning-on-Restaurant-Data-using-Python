{
 "cells": [
  {
   "cell_type": "markdown",
   "metadata": {},
   "source": [
    "## Data Cleaning  and Outlier Removal on Uber Eats Data.\n",
    "\n",
    "Environment: Python 3.6.0 and Anaconda 4.3.0 (64-bit)\n",
    "\n"
   ]
  },
  {
   "cell_type": "markdown",
   "metadata": {},
   "source": [
    "# Libraries Used"
   ]
  },
  {
   "cell_type": "markdown",
   "metadata": {},
   "source": [
    "1) **Regular Expressions(`re`)** : It is a library used to identify and match a pattern given a sequence of strings. They are frequently used in search engines, text editors and word processors. In this assignment, regular expressions are used to identify,extract and substitute various elements by using regex methods such as `re.search()`, `re.findall()` and `group()`.\n",
    "\n",
    "2) **Pandas** : This library is used for exploratory data analysis and data manipulation. In this assignment, the Pandas library is used to store the elements in a data frame and convert the data frame into a CSV file by using pandas methods such as `pd.DataFrame()` and `df.to_csv()`. Methods such as `pd.df.loc[]` and `pd.df.iloc[]` are used to tranverse the dataframe. \n",
    "\n",
    "3) **numpy** : numpy is a package used to perform scientific computing with Python. `numpy.linalg.solve()` method is usef to solve a linear matrix equation, or system of linear scalar equations.\n",
    "\n",
    "4) **datetime.datetime**: A datetime object contains all the information from both date object and time object. classmethod `datetime.strptime(date_string, format)` is used to convert a date string into datetime object with format as ;%H:%M:%S'.\n",
    "\n",
    "5) **networkx**: This is a python package used for creation,manipulation, and study of the structure, dynamics, and functions of complex networks. In this assignment, this package is used to create nodes, edges and then find shortest distances between a customer and a restaurant branch.\n",
    "\n",
    "6) **from sklearn import linear_model**: `LinearRegression()` method is used from from linear_model. LinearRegression() class method will take in its fit method arrays X, y.\n",
    "\n",
    "7)**matplotlib.pyplot**: This library is used to plot the scatter plot and box plot to check the linearity of the model and outliers respectively on outlier data. Functions such as `plt.boxplot()`,`plt.scatter()`,`plt.title`,`plt.xlabel`,`plt.ylabel` and `plt.figure` are used."
   ]
  },
  {
   "cell_type": "markdown",
   "metadata": {},
   "source": [
    "# Importing Libraries"
   ]
  },
  {
   "cell_type": "code",
   "execution_count": 1,
   "metadata": {},
   "outputs": [],
   "source": [
    "import pandas as pd\n",
    "import re\n",
    "import numpy as np\n",
    "from datetime import datetime\n",
    "import networkx as nx\n",
    "from sklearn import linear_model\n",
    "import matplotlib.pyplot as plt"
   ]
  },
  {
   "cell_type": "markdown",
   "metadata": {},
   "source": [
    "# Reading the Data : "
   ]
  },
  {
   "cell_type": "code",
   "execution_count": 2,
   "metadata": {},
   "outputs": [],
   "source": [
    "outlier = pd.read_csv('Group069_outlier_data.csv')\n",
    "\n",
    "dirty_data = pd.read_csv('Group069_dirty_data.csv')"
   ]
  },
  {
   "cell_type": "markdown",
   "metadata": {},
   "source": [
    "### getPrices(df2,ordertype)\n",
    "\n",
    "**Description:**\n",
    "\n",
    "Get prices is a function to extract the menu. A menu is a list of all the items and the corresponding prices. \n",
    "\n",
    "The items and prices of the corresponding order type are stored in the python collection dictionary. This function takes in two arguments and is useful to curate the **order_items** and **order_price** coloumns.\n",
    "\n",
    "\n",
    "\n",
    "\n",
    "\n",
    "**Parameters ** : \n",
    "\n",
    "**1.) df2**  =  The dataframe from which the menu is extracted.\n",
    "\n",
    "**2.) Ordertype** = The type of the order i.e. **Breakfast** , **Lunch** or **Dinner**\n",
    "\n",
    "\n",
    "**output** : \n",
    "This function returns a dictionary, with items as keys and their corresponding prices as values. \n",
    "\n",
    "**Methodology** : \n",
    "\n",
    "1.) A subset dataframe is created from the input dataframe,which is seggregated based on the order type.\n",
    "\n",
    "2.) The items and quantities from the order items coloumn are extracted using the regular expressions library with the `re.findall()` function, which returns  a list of all the matched values.\n",
    "\n",
    "3.) The regular expression for items are : `re.findall('([A-Za-z&]+)',i)` . Here, [A-za-z] indicates a combination of lowercase and uppercase letters , + indicates one more occurances of the instances, the paranthesis is used to search for\n",
    "the group of the regular expressions, Also, here i represents the row of the  dataframe.\n",
    "\n",
    "The regular expression for quantities are : re.findall('\\d+',i)\n",
    "\n",
    "`re.findall('\\d+',i)`\n",
    "\n",
    "Here \\d represents a digit and + represents one more occurances of the matched pattern.\n",
    "\n",
    "\n",
    "Both the items and quantities are for each row are stored as list of lists , with the sublist representing each row.\n",
    "\n",
    "\n",
    "4.) The order items coloumn is then converted into a list of tuples.\n",
    "\n",
    "5.) The set of unique items are calculated using the python sets, which stores distinct values.\n",
    "\n",
    "6.) The rows, or the list of tuples that contain all the elements in the set are retrieved and the corresponding values of the cost price column are also retrieved.\n",
    "\n",
    "\n",
    "7.) The first n rows are selected (order items i.e. item,quantity tuples and order prices), with n being the number of items( The number of unkowns) ) . \n",
    "\n",
    "8.) The cost of the items are then computed by taking the item, quantity pairs and the cost coloumn as algebraic equations.\n",
    "\n",
    "9.) A sample equation used is :  ` input list : [ (item1,quantity1)  , (item2,quantity2) ]` and the cost price is `[x1]`. \n",
    "\n",
    "` The equation is item1*quantity1 + item2*quantity2  = x1 ` as this equation contains 2 unkowns i.e. item1 and item2, the \n",
    "two equations are passed into the `np.linalg().solve()` function.\n",
    "\n",
    "\n",
    "\n",
    "The np.linalg.solve() function is used to solve a system of equations.\n",
    "\n",
    "\n",
    "Syntax : np.linalg(a,b)\n",
    "\n",
    "Here a is the Coeffecient matrix / system of equations (numpy array) and b is the dependent variable (numpy array).\n",
    "\n",
    "This function solves the system of linear equations and returns the solutions as an  np.array().\n",
    "\n",
    "\n",
    "\n",
    "10.) After Computing the costs, the corresponding items and their costs are returned as  a dictionary."
   ]
  },
  {
   "cell_type": "code",
   "execution_count": 3,
   "metadata": {},
   "outputs": [],
   "source": [
    "# This function is used to generate the prices of the items of Breakfast,Lunch and Dinner.\n",
    "def getPrices(df2,ordertype):   \n",
    "    #The argument df2  indicates a dataframe.\n",
    "    # The argument odertype indicates the type of ordeer, i.e. Breakfast,Lunch and Dinner.\n",
    "    type_df = df2[(df2.order_type == ordertype)] # Creating a subdataframe where the ordertype is the second parameter\n",
    "    item_list = [] # Defining a list to store the items\n",
    "    quantity_list = [] # Defining a list to store the corresponding quantities.\n",
    "    for i in type_df.order_items: #iterating through the orderitems coloumn.\n",
    "        item_list.append(re.findall('([A-Za-z&]+)',i)) # Using the regrular expressions (re.findall()) re.findall() function to retreive the order items.\n",
    "        # The pattern A-Za-z represents the combination of uppercase and lowercase characters, the & Symbol  is used to match special items such as fish&chips.\n",
    "        # The \"+\" symbol indicates one or more occurances of the item.\n",
    "        quantity_list.append(re.findall('\\d+',i)) # The corresponding quantities are matched using the \\d symbol, which matches a digit.\n",
    "        #The + symbol is used to match one or more occurances of the digit.\n",
    "        # The extracted quantities are in strings.\n",
    "\n",
    "    # The extracted quantities are then converted into integer type from strings using the map function.\n",
    "    quantity_list_2 = [list(map(int,i)) for i in quantity_list]\n",
    "\n",
    "\n",
    "    # Creating a list for storing the converted order,quantity pairs.\n",
    "    new_order_list = []\n",
    "    \n",
    "    #initializing a for looop to iterate through the length  of the new quantity list \n",
    "    for i in range(len(quantity_list_2)):\n",
    "        # Using the zip function to store the item, quantity tuples.\n",
    "        new_order_list.append(list(zip(item_list[i],quantity_list_2[i])))\n",
    "\n",
    "    #retrieving prices from order price coloumn of the dataframe and storing in a variable named price_list\n",
    "    price_list = list(type_df.order_price)\n",
    "\n",
    "    # Sorting the order list using the sorted function to sort the item,quantity tuple by alphabetical order\n",
    "    new_order_list_2 = [sorted(x) for x in new_order_list]\n",
    "    \n",
    "    # Creating a new list to store the distinct items in each ordertype\n",
    "    type_menu = []\n",
    "\n",
    "    #creating a list to all the items in the specified type.\n",
    "    type_list = []\n",
    "    # Iterating through each sublist in the orderlist\n",
    "    for i in new_order_list_2:\n",
    "        # Unpacking the item,quantity tuple. Here a represents item and b represents quantity.\n",
    "        for a,b in i: \n",
    "            # Appending the items to typelist.\n",
    "            type_list.append(a)      \n",
    "    \n",
    "    # Using Set Function to select the distinct items in the menu and using sorted function to sort the items based on alphabetical order.\n",
    "    type_menu = list(sorted(set(type_list)))\n",
    "\n",
    "\n",
    "\n",
    "    \n",
    "    length_order_list = [] # Creating a new list to store the tuple lists that have all items of the specified type.\n",
    "    new_prices = [] # Creating a new list to store the coorresponding order prices.\n",
    "    for x in new_order_list_2: # iterating through the new order list of tuples and quantities.\n",
    "        if len(x) == len(type_menu): # Checking whether all the items are present in the tuple list by equating to the length of the distinct items.\n",
    "            length_order_list.append(x) # Appending the tuple lists with all items to the new list\n",
    "            new_prices.append(price_list[new_order_list_2.index(x)]) # Appending the coresponding order prices to the price list\n",
    "\n",
    "\n",
    "\n",
    "    \n",
    "    length_order_list_2 = length_order_list[:len(type_menu)] # Selecting the number of lists equal to the number of variables\n",
    "    a_list = [] # Creating a list for np.linalg() , containing of all coeffecients.\n",
    "    b_list = new_prices[:len(type_menu)] # Creating a list for all the constants.\n",
    "    for x in length_order_list_2: # Iterating thtrough the newly created list of tuples with all items.\n",
    "        sub_a = [] # Creating a sublist to store the quantities of each row\n",
    "        for a,b in x: # unpacking the tuples in the length order list\n",
    "            sub_a.append(b) # Appending the quantities of each row into the sublist\n",
    "        a_list.append(sub_a) # Appending the sublist into a_list to pass into np.linalg() function.\n",
    "\n",
    "\n",
    "\n",
    "\n",
    "    #creating a result dictionary with item prices and item names:\n",
    "    result_dictionary = {}\n",
    "    # Using np.linalg() function to compute the prices for each coloumn\n",
    "    result = np.linalg.solve(np.array(a_list),np.array(b_list))\n",
    "    # Converting the obtained np.array into a list by iterating through the elements of the numpy array\n",
    "    # Using the round function  to approximate the values upto 2 declimal places.\n",
    "    updated_result=[round(x,2) for x in result] \n",
    "    for i in range(len(updated_result)): # iterating through the updated list inorder to create a dictionary\n",
    "        result_dictionary[type_menu[i]] = updated_result[i] # Setting the keys and values of the dictionary\n",
    "        \n",
    "    \n",
    "    return result_dictionary # Returning the resultant dictionary.\n",
    "                          \n",
    "        \n",
    "        "
   ]
  },
  {
   "cell_type": "markdown",
   "metadata": {},
   "source": [
    "  The prices are computed on outlier data , assuming that the prices in the outlier data are correct."
   ]
  },
  {
   "cell_type": "code",
   "execution_count": 4,
   "metadata": {},
   "outputs": [
    {
     "name": "stdout",
     "output_type": "stream",
     "text": [
      "Breakfast menu is : {'Cereal': 21.0, 'Coffee': 7.5, 'Eggs': 22.0, 'Pancake': 24.25}\n",
      "Lunch menu is :  {'Burger': 31.0, 'Chicken': 32.0, 'Fries': 12.0, 'Salad': 17.2, 'Steak': 45.0}\n",
      "Dinner menu is :  {'Fish&Chips': 35.0, 'Pasta': 27.5, 'Salmon': 41.0, 'Shrimp': 54.0}\n"
     ]
    }
   ],
   "source": [
    "lunch_menu = getPrices(outlier,'Lunch')\n",
    "breakfast_menu = getPrices(outlier,'Breakfast')\n",
    "dinner_menu = getPrices(outlier,'Dinner')\n",
    "\n",
    "print(\"Breakfast menu is :\",breakfast_menu)\n",
    "print(\"Lunch menu is : \",lunch_menu)\n",
    "print(\"Dinner menu is : \", dinner_menu)\n",
    "\n"
   ]
  },
  {
   "cell_type": "markdown",
   "metadata": {},
   "source": [
    "# Repairing all the faulty columns:\n",
    "# a.)Repairing Date Column"
   ]
  },
  {
   "cell_type": "markdown",
   "metadata": {},
   "source": [
    " ###  Creating a datelist : "
   ]
  },
  {
   "cell_type": "code",
   "execution_count": 5,
   "metadata": {},
   "outputs": [],
   "source": [
    "datelist = list(dirty_data.date)  # Creating a list of the dates from the dataframe."
   ]
  },
  {
   "cell_type": "markdown",
   "metadata": {},
   "source": [
    "###  Identifying the defective dates : "
   ]
  },
  {
   "cell_type": "markdown",
   "metadata": {},
   "source": [
    "The required patterns are supposed to be in the format yyyy-mm-dd.\n",
    "\n",
    "After Examining the data, there are 37 rows with the date in incorrect format, either with the format dd-mm-yyyy or \n",
    "yyyy-dd-mm.\n",
    "\n",
    "\n",
    "The defective formats are identifying using the regularexpressions re.search() function.\n",
    "\n",
    "The Pattern used here is `re.search('(\\d+)-(\\d+)-(\\d+)',i)`. \n",
    "\n",
    "Here \\d matches a digit and the + symbol indicates one or more occurances of a digit.\n",
    "\n",
    "The obtained digits are in the string format.\n",
    "\n",
    "The groups are indicated by the paranthesis `()`\n",
    "\n",
    "There are a total of three groups, each for year, month and day.\n",
    "\n",
    "\n",
    "The length of the string can be foundout using the len() function. \n",
    "The first group is checked using the len() function, the length of the year is 4 i.e. eg: \"2018\".\n",
    "If the length of the first group is not equal to four, then the first group doesnot represent an year.\n",
    "\n",
    "\n",
    "The second group i.e. the month is also checked. The month is typecasted using the int() function.\n",
    "\n",
    "The months lie in between 1 and 12.The integer value of the month should not be greater than 12. If the value\n",
    "of the month is greater than 12, then  the month is not located in the second position.\n",
    "\n",
    "The defective dates are appended into a list and the length of the list gives the number of defective dates. "
   ]
  },
  {
   "cell_type": "code",
   "execution_count": 6,
   "metadata": {},
   "outputs": [
    {
     "name": "stdout",
     "output_type": "stream",
     "text": [
      "The number of defective dates are :  37\n"
     ]
    }
   ],
   "source": [
    "defective_dates = [] # A list for the defective dates\n",
    "for i in datelist: # Initializing a for loop for iterating through the datelist \n",
    "    if (len(re.search('(\\d+)-(\\d+)-(\\d+)',i).group(1)) !=4) or (int(re.search('(\\d+)-(\\d+)-(\\d+)',i).group(2))>12 ): # Using regular expressions to find the years in the wrong position and the months in the wrong position\n",
    "        defective_dates.append(i) # appending the defective dates in a list\n",
    "\n",
    "print(\"The number of defective dates are : \",len(defective_dates)) # Computing the length of the defective dates inorder to count the number of defective dates"
   ]
  },
  {
   "cell_type": "markdown",
   "metadata": {},
   "source": [
    "##  Repairing the Defective dates : "
   ]
  },
  {
   "cell_type": "markdown",
   "metadata": {},
   "source": [
    " **a.)Converting the (day -month-year) into (year - month - day)**.\n",
    " \n",
    " The dates in the Day - Month - Year format are converted to the Year - Month - Day Format.\n",
    " \n",
    " The re.search() method is used to to search for the Year and Month.\n",
    " \n",
    "The regular expression `('(\\d+)-(\\d+)-(\\d+)')` is used to search for the year and month. The special character\n",
    "\n",
    "'\\d' represents the digit, it is used to match  a digit and the preceding + symbol is used to match one or more occurances of the regular expression.\n",
    "\n",
    "The first group generally  represents an year, hence the length of the year is 4 as the year is a string.\n",
    "\n",
    "The second group represents a month, the month is in string and hence, it is typecasted to integer. The month is compared to check whether it lies between 1 and 12, inorder to check if it is in the correct position.\n",
    "\n",
    "\n",
    "As the length of the year is not equal to 4 and the month is in the second position it can be concluded that the date\n",
    "is in Year - Month - Day format and the third group needs to be swapped with the first group i.e. day with Year.\n"
   ]
  },
  {
   "cell_type": "code",
   "execution_count": 7,
   "metadata": {},
   "outputs": [],
   "source": [
    "for i in defective_dates: # iterating through the defective dates : \n",
    "    \n",
    "    # Initializing an if loop to check for the year - month - day format.\n",
    "    # Using regular Expressions (re.search()) to seaerch for the year  and month patterns.\n",
    "    if (len(re.search('(\\d+)-(\\d+)-(\\d+)',i).group(1)) !=4) and (int((re.search('(\\d+)-(\\d+)-(\\d+)',i).group(2)))<= 12):\n",
    "        # The Year,month,day format are replaced in the datelist, the 3rd group is put first and the first group is put at the end.\n",
    "        # The year is swapped from the last position to the first position i.e. from day - month -year to year - month -day\n",
    "        datelist[datelist.index(i)] = re.search('(\\d+)-(\\d+)-(\\d+)',i).group(3)+'-'+re.search('(\\d+)-(\\d+)-(\\d+)',i).group(2)+'-'+re.search('(\\d+)-(\\d+)-(\\d+)',i).group(1)\n",
    "        "
   ]
  },
  {
   "cell_type": "markdown",
   "metadata": {},
   "source": [
    "#### b.)  Converting yyyy-dd-mm to yyyy-mm-dd\n",
    "\n",
    "The dates are retrieved using the regular expression re.search '(\\d+)-(\\d+)-(\\d+)', where \\d is a special character to match the digit.\n",
    "\n",
    "The + symbol indicates one or more occurances of the preceeding pattern.\n",
    "\n",
    "The month i.e. the group 2 is checked by typecasting the month into integer and using a comparision operator (>), to \n",
    "check if it is greater than 12 or not.\n",
    "\n",
    "If the month is greater than 12, it indicates that the month is not fixed in a correct position.\n",
    "\n",
    "As computed above, the year is in the right position and the month has to be fixed. Hence, we can confirm that \n",
    "the second defective date pattern is in the form\n",
    "\n",
    "Year - day - Month. \n",
    "\n",
    "Hence the third group is swapped with the second group inorder to obtain the correct date pattern. i.e. **yyyy - mm -dd.** "
   ]
  },
  {
   "cell_type": "code",
   "execution_count": 8,
   "metadata": {},
   "outputs": [],
   "source": [
    "for i in datelist: # Iterating through the datelist\n",
    "    if (int(re.search('(\\d+)-(\\d+)-(\\d+)',i).group(2))>12 ): # Checking if the month is greater than 12 or not,using regular expressions\n",
    "        # Swapping the day with month.\n",
    "        datelist[datelist.index(i)] = re.search('(\\d+)-(\\d+)-(\\d+)',i).group(1)+'-'+re.search('(\\d+)-(\\d+)-(\\d+)',i).group(3)+'-'+re.search('(\\d+)-(\\d+)-(\\d+)',i).group(2)\n",
    "        "
   ]
  },
  {
   "cell_type": "markdown",
   "metadata": {},
   "source": [
    "**Testing the yyyy-mm-dd format**\n",
    "\n",
    "The date is tested , using the string.split() function , to obtain the date as a list.\n",
    "The obtained list has 3 elements i.e. the year month and day. \n",
    "\n",
    "The year is checked  by checking if the length of the year string is greater than 4 or not.\n",
    "\n",
    "The Month is checked by checking whether the month is greater than 12 or not."
   ]
  },
  {
   "cell_type": "code",
   "execution_count": 9,
   "metadata": {},
   "outputs": [],
   "source": [
    "for i in datelist:  # Iterating througn the date list.\n",
    "    i = i.split('-') # Splitting the date into a list , with three elements i.e. the year, day , \n",
    "    if int(i[1]) > 12: # Checking whether the month  is greater than 12 or not\n",
    "        print(i) \n",
    "    elif len(i[0])!=4: # Checking whether the year is of length of 4 or not.\n",
    "        print(i)\n"
   ]
  },
  {
   "cell_type": "markdown",
   "metadata": {},
   "source": [
    "##### Adding column date\n",
    "\n",
    "Overwriting the date coloumn by the new datelist. "
   ]
  },
  {
   "cell_type": "code",
   "execution_count": 10,
   "metadata": {},
   "outputs": [],
   "source": [
    "dirty_data.date = datelist"
   ]
  },
  {
   "cell_type": "markdown",
   "metadata": {},
   "source": [
    "# b.) Repairing order_type column based on time column \n",
    "\n",
    "`datetime.strptime()` is a method used to create a datetime object from a string value. `strptime()` class method takes two arguments.\n",
    "\n",
    "i)string (that be converted to datetime)\n",
    "\n",
    "ii)format\n",
    "\n",
    "After looking at the `time` and `order_type` columns of `dirty_data` DataFrame, it can be inferred that there are few rows that contain faulty `order_type` values for its correspoding `time`\n",
    "\n",
    "For example: dirty_data.loc[10,'time'] is `13:04:13` and dirty_data.loc[10,'order_type'] is `Breakfast` which is wrong according to its time value. It should ideally be `Lunch`. \n",
    "\n",
    "Therefore, all such faulty rows are identified and faulty order_types are changed according to their corresponding `time` values. In order to do so, first boundary date times should be fixed.\n",
    "\n",
    "Fixing boundary datetimes for each order types i.e `breakfastbegin`, `breakfastend`,`lunchbegin`,`lunchend`, `dinnerbegin`, `dinnerend`"
   ]
  },
  {
   "cell_type": "code",
   "execution_count": 11,
   "metadata": {},
   "outputs": [],
   "source": [
    "breakfastbegin=datetime.strptime('8:00:00', '%H:%M:%S') #fixing time for beginning the breakfast order\n",
    "breakfastend=datetime.strptime('12:00:00', '%H:%M:%S') # fixing time for ending breakfast order\n",
    "\n",
    "lunchbegin=datetime.strptime('12:00:01', '%H:%M:%S') # fixing time for beginning lunch\n",
    "lunchend=datetime.strptime('16:00:00', '%H:%M:%S') # fixing time for ending lunch\n",
    "\n",
    "dinnerbegin=datetime.strptime('16:00:01', '%H:%M:%S') #fixing time for beginning dinner\n",
    "dinnerend=datetime.strptime('20:00:00', '%H:%M:%S') #fixing time for ending dinner"
   ]
  },
  {
   "cell_type": "markdown",
   "metadata": {},
   "source": [
    "After iterating through length of the dirty_data DataFrame, each time instance(string value) of dataframe is converted into date time object.\n",
    "\n",
    "As a first step, to get correct 'Breakfast' order type values , a condition is passed to check if a converted datetime object instance lies between `breakfastbegin` and `breakfastend`. If this condition is true, another condition is passed to check if the order_type instance is not `Breakfast`. If this condition is also true, order_type of that instance is changed to `Breakfast` by using `dirty_data.loc[i,'order_type']= 'Breakfast'`\n",
    "\n",
    "To get correct 'Lunch' order type, a condition is passed to check if a converted datetime object instance lies between `lunchbegin` and `lunchend`. If this condition is true, another condition is passed to check if the order_type instance is not `Lunch`. If this condition is also true, order_type of that instance is changed to `Lunch` by using `dirty_data.loc[i,'order_type']= 'Lunch'`\n",
    "\n",
    "In order to get correct 'Dinner' order type, a condition is passed to check if a converted datetime object instance lies between `dinnerbegin` and `dinnerend`. If this condition is true, another condition is passed to check if the order_type instance is not `Dinner`. If this condition is also true, order_type of that instance is changed to `Dinner` by using `dirty_data.loc[i,'order_type']= 'Dinner'`"
   ]
  },
  {
   "cell_type": "code",
   "execution_count": 12,
   "metadata": {},
   "outputs": [],
   "source": [
    "order_list_fault=[] #initialising a list to store all the faulty indexes \n",
    "for i in range(len(dirty_data.time)): #iterating through length of the dataframe\n",
    "    if datetime.strptime(dirty_data.time[i], '%H:%M:%S') >= (breakfastbegin) and datetime.strptime(dirty_data.time[i], '%H:%M:%S') <= (breakfastend) : #condition if time instance falls in between beginning and end of breakfast time\n",
    "        if dirty_data.order_type[i] != 'Breakfast': # condition if the order type instance is not Breakfast\n",
    "            order_list_fault.append(i) # appending the index of that instance\n",
    "            dirty_data.loc[i,'order_type']= 'Breakfast' # replacing the faulty order type with Breakfast\n",
    "\n",
    "    elif datetime.strptime(dirty_data.time[i], '%H:%M:%S') >= (lunchbegin) and datetime.strptime(dirty_data.time[i], '%H:%M:%S') <= (lunchend) : #condition if time instance falls in between beginning and end of lunch time\n",
    "        if dirty_data.order_type[i] != 'Lunch': # condition if the order type instance is not Lunch\n",
    "            order_list_fault.append(i) # appending the index of that instance\n",
    "            dirty_data.loc[i,'order_type']= 'Lunch' # replacing the faulty order type with Breakfast\n",
    "\n",
    "    elif datetime.strptime(dirty_data.time[i], '%H:%M:%S') >= (dinnerbegin) and datetime.strptime(dirty_data.time[i], '%H:%M:%S') <= (dinnerend) : #condition if time instance falls in between beginning and end of dinner time\n",
    "        if dirty_data.order_type[i] != 'Dinner': # condition if the order type instance is not dinner\n",
    "            order_list_fault.append(i) # appending the index of that instance\n",
    "            dirty_data.loc[i,'order_type']= \"Dinner\" # replacing the faulty order type with Dinner"
   ]
  },
  {
   "cell_type": "markdown",
   "metadata": {},
   "source": [
    "### Printing Order type fault count"
   ]
  },
  {
   "cell_type": "code",
   "execution_count": 13,
   "metadata": {},
   "outputs": [
    {
     "name": "stdout",
     "output_type": "stream",
     "text": [
      "The total number of faulty order type instances are : 37\n"
     ]
    }
   ],
   "source": [
    "print('The total number of faulty order type instances are :', len(order_list_fault))"
   ]
  },
  {
   "cell_type": "markdown",
   "metadata": {},
   "source": [
    "# c.) i) Repairing Branch Code"
   ]
  },
  {
   "cell_type": "code",
   "execution_count": 14,
   "metadata": {},
   "outputs": [],
   "source": [
    "branchcode = list(dirty_data.branch_code)"
   ]
  },
  {
   "cell_type": "markdown",
   "metadata": {},
   "source": [
    "**Old Branchcodes, some are lowercase :**"
   ]
  },
  {
   "cell_type": "code",
   "execution_count": 15,
   "metadata": {},
   "outputs": [
    {
     "data": {
      "text/plain": [
       "{'BK', 'NS', 'TP', 'bk', 'ns', 'tp'}"
      ]
     },
     "execution_count": 15,
     "metadata": {},
     "output_type": "execute_result"
    }
   ],
   "source": [
    "set(branchcode)"
   ]
  },
  {
   "cell_type": "markdown",
   "metadata": {},
   "source": [
    "After observing the `branch_code` column of the `dirty_data` DataFrame, it can be inferred that there are few rows were branch code is in `lowercase` like 'ns'. All such instances should be replaced with its respective `uppercase` values like 'NS'.\n",
    "In order to do this task, first step is to iterate through the length of the dataframe.\n",
    "\n",
    "A condition is passed to check if the branch code of an instance is `ns`. If true, Branch code of this instance is changed to `'NS'` by using `'dirty_data.loc[i,'branch_code']='NS''`\n",
    "\n",
    "If the above condition is false, another condition is passed to check if the branch code of an instance is `'bk'`. If true, ranch code of this instance is changed to `'NS'` by using `'dirty_data.loc[i,'branch_code']='BK''`\n",
    "\n",
    "\n",
    "If the above condition is also false, another condition is passed to check if the branch code of an instance is `'tp'`. If true, ranch code of this instance is changed to `'TP'` by using `'dirty_data.loc[i,'branch_code']='TP''`.\n",
    "\n",
    "All the faulty indexes are appended into a list `branch_fault`"
   ]
  },
  {
   "cell_type": "code",
   "execution_count": 16,
   "metadata": {},
   "outputs": [
    {
     "name": "stdout",
     "output_type": "stream",
     "text": [
      "The defective branch codes based on case  are: 31\n"
     ]
    }
   ],
   "source": [
    "branch_fault=[] #initialising a list to store faulty indexes\n",
    "for i in range(len(dirty_data)): #iterating through length of dirty data\n",
    "    if dirty_data.branch_code[i]=='ns': #condition to check if branch code value is 'ns'\n",
    "        branch_fault.append(i) #appending the faulty index\n",
    "        dirty_data.loc[i,'branch_code']='NS' #replacing the lower value i.e. 'ns' with upper value i.e. 'NS'\n",
    "    \n",
    "    elif dirty_data.branch_code[i]=='bk': #condition to check if branch code value is 'bk'\n",
    "        branch_fault.append(i)  #appending the faulty index\n",
    "        dirty_data.loc[i,'branch_code']='BK' #replacing the lower value i.e. 'ns' with upper value i.e. 'BK'\n",
    "    \n",
    "    elif dirty_data.branch_code[i]=='tp': #condition to check if branch code value is 'tp'\n",
    "        branch_fault.append(i)  #appending the faulty index\n",
    "        dirty_data.loc[i,'branch_code']='TP' #replacing the lower value i.e. 'ns' with upper value i.e. 'TP'\n",
    "print(\"The defective branch codes based on case  are:\",len(branch_fault))"
   ]
  },
  {
   "cell_type": "markdown",
   "metadata": {},
   "source": [
    "### Testing Branch Code : "
   ]
  },
  {
   "cell_type": "code",
   "execution_count": 17,
   "metadata": {},
   "outputs": [
    {
     "data": {
      "text/plain": [
       "{'BK', 'NS', 'TP'}"
      ]
     },
     "execution_count": 17,
     "metadata": {},
     "output_type": "execute_result"
    }
   ],
   "source": [
    "set(dirty_data.branch_code)"
   ]
  },
  {
   "cell_type": "markdown",
   "metadata": {},
   "source": [
    "# c.) ii) Repairing Branch Code based on order ID:"
   ]
  },
  {
   "cell_type": "markdown",
   "metadata": {},
   "source": [
    "### Finding Branch Code patterns from Outlier Data "
   ]
  },
  {
   "cell_type": "markdown",
   "metadata": {},
   "source": [
    "The branch codes are imputed using the order_id column, it can be observed from the order_id column that there are 3 patterns of the non-numeric part for each order-id, for each branch.\n",
    "\n",
    "i.e. there are 9 patterns in total for 3 Branches.\n",
    "\n",
    "\n",
    "The branch codes are collected from the **outlier data** as there are no missing values in the branchcode column\n",
    "and the order-id's do not have any errors.\n",
    "\n",
    "The obtained patterns for BK are : \n",
    "\n",
    "`['ORDX', 'ORDK', 'ORDA']`\n",
    "\n",
    "The obtained patterns for TP are : \n",
    "\n",
    "`['ORDB', 'ORDY', 'ORDJ']`\n",
    "\n",
    "The observed patterns for NS are :\n",
    "\n",
    "`['ORDZ', 'ORDI', 'ORDC']`\n",
    "\n",
    "\n",
    "The order id's for the three branches are acquired by taking three subdataframes for each branch.\n",
    "\n",
    "The order id of each subdataframe is stored in a list. The order ids are then iterated and the first 4 characters\n",
    "of the order id's are fetched using `re.search()` method with the regular expression `[A-Z]+`, which represents\n",
    "a combination of one ore more uppercase letters.\n",
    "\n",
    "The unique order id's are then stored into a list using the `set()` function, to store the distinct order id's.\n"
   ]
  },
  {
   "cell_type": "code",
   "execution_count": 18,
   "metadata": {},
   "outputs": [
    {
     "name": "stdout",
     "output_type": "stream",
     "text": [
      "Order_id pattern for BK branch code starts with : ['ORDK', 'ORDA', 'ORDX']\n",
      "Order_id pattern for NS branch code starts with : ['ORDZ', 'ORDC', 'ORDI']\n",
      "Order_id pattern for TP branch code starts with : ['ORDJ', 'ORDB', 'ORDY']\n"
     ]
    }
   ],
   "source": [
    "outlier_Bk = list(outlier[outlier.branch_code == \"BK\"].order_id) # Obtaining the order id of the BK Sub Dataframe \n",
    "bk_id = [] # initializing a list for the bkid's\n",
    "for i in outlier_Bk: # iterating through the order id's of the Subdataframe\n",
    "    bk_id.append(re.search('[A-Z]+',i).group()) # Using regex to search for the alphabetical part in the alpha numeric order id\n",
    "\n",
    "bk_id = list(set(bk_id)) # Obtaining the unique patterns by using the set Function.\n",
    "print('Order_id pattern for BK branch code starts with :', bk_id)\n",
    "\n",
    "\n",
    "outlier_NS = list(outlier[outlier.branch_code == \"NS\"].order_id) # Obtaining the order id of the NS Sub Dataframe\n",
    "ns_id = [] # Initializing a list for the order_id's\n",
    "for i in outlier_NS: # Iterating through the order id of the outlier dataframe\n",
    "    ns_id.append(re.search('[A-Z]+',i).group()) # Using regex to find the alphabetical part of the alphanumeric ordeerid\n",
    "\n",
    "ns_id = list(set(ns_id)) # Using set to collect distinct values\n",
    "print('Order_id pattern for NS branch code starts with :', ns_id)\n",
    "\n",
    "\n",
    "outlier_TP = list(outlier[outlier.branch_code == \"TP\"].order_id) # Creating a subdataframe and obtaining the orderid for TP\n",
    "tp_id = [] # initializing a list fot the tp id\n",
    "for i in outlier_TP: # Iterating through the orderid of the outlier dataframe\n",
    "    tp_id.append(re.search('[A-Z]+',i).group()) # Appending the order id patterns\n",
    "\n",
    "tp_id = list(set(tp_id)) # Using set to obtain distinct order id\n",
    "print('Order_id pattern for TP branch code starts with :', tp_id)"
   ]
  },
  {
   "cell_type": "code",
   "execution_count": 19,
   "metadata": {},
   "outputs": [
    {
     "data": {
      "text/plain": [
       "order_id                                      ORDA01674\n",
       "date                                         2018-03-02\n",
       "time                                           09:51:32\n",
       "order_type                                    Breakfast\n",
       "branch_code                                          NS\n",
       "order_items                [('Eggs', 4), ('Coffee', 9)]\n",
       "order_price                                       155.5\n",
       "customer_lat                                   -37.8055\n",
       "customer_lon                                    144.955\n",
       "customerHasloyalty?                                   0\n",
       "distance_to_customer_KM                           8.156\n",
       "delivery_fee                                    12.9066\n",
       "Name: 122, dtype: object"
      ]
     },
     "execution_count": 19,
     "metadata": {},
     "output_type": "execute_result"
    }
   ],
   "source": [
    "dirty_data.iloc[122]"
   ]
  },
  {
   "cell_type": "markdown",
   "metadata": {},
   "source": [
    "After observing the `branch code` column of dirty data, it can be inferred that there are few rows were branch_codes are not in alliance with `order id pattern`. For example, by examining `dirty_data.iloc[122]`, its seen that pattern of order_id starts with `ORDA`, and `branch code` is `NS` which is wrong and it ideally should be `BK`. Identifying all such rows and changing the faulty branch codes to correct branch codes with respect to starting pattern of `order_id`"
   ]
  },
  {
   "cell_type": "markdown",
   "metadata": {},
   "source": [
    "Iterating through the length of dirty data:\n",
    "Applying a condition to check if the branch code of instance is 'BK': \n",
    "\n",
    "   If the condition is true, a pattern is matched using `re.search()` method with the regular expression `[A-Z]+`(which is a combination of one ore more uppercase letters.) on the instance's `order_id` and grouped using `group()` method. If this pattern is present in `ns_id` then replacing the faulty branch code with 'NS' else if pattern is present in `ns_id` then replacing the faulty branch code with 'TP'\n",
    "    \n",
    "If branch code of instance is not 'BK:\n",
    "\n",
    "Applying a condition to check if the branch code of instance is 'NS'\n",
    "\n",
    "   If the condition is true, a pattern is matched using `re.search()` method with the regular expression `[A-Z]+`(which is a combination of one ore more uppercase letters.) on the instance's `order_id` and grouped using `group()` method. If this pattern is present in `bk_id` then replacing the faulty branch code with 'BK' else if pattern is present in `tp_id` then replacing the faulty branch code with 'TP'\n",
    "    \n",
    "If branch code of instance is not 'NS':\n",
    "\n",
    "Applying a condition to check if the branch code of instance is 'TP'\n",
    "\n",
    "   If the condition is true, a pattern is matched using `re.search()` method with the regular expression `[A-Z]+`(which is a combination of one ore more uppercase letters.) on the instance's `order_id` and grouped using `group()` method. If this pattern is present in `bk_id` then replacing the faulty branch code with 'BK' else if pattern is present in `ns_id` then replacing the faulty branch code with 'NS'\n",
    "    \n",
    "All the faulty indexes are appended into `branch_code_faulty`"
   ]
  },
  {
   "cell_type": "code",
   "execution_count": 20,
   "metadata": {},
   "outputs": [
    {
     "name": "stdout",
     "output_type": "stream",
     "text": [
      "The defective branch codes based on case  are: 26\n"
     ]
    }
   ],
   "source": [
    "branch_code_faulty=[] #initialising a list to store the faulty indexes\n",
    "for i in range(len(dirty_data)): #iterating through the length of dirty data\n",
    "    if dirty_data.branch_code[i]=='BK': #applying a condition to check if branch code is 'BK'\n",
    "        if re.search('[A-Z]+',dirty_data.order_id[i]).group() in ns_id:# initializing an if condition to check whether the branch code belongs to NS or not\n",
    "            branch_code_faulty.append(i) #appending the faulty index value\n",
    "            dirty_data.loc[i,'branch_code']='NS'#replacing with 'NS'\n",
    "\n",
    "        elif re.search('[A-Z]+',dirty_data.order_id[i]).group() in tp_id:# initializing an if condition to check whether the branch code belongs to tp or not\n",
    "            branch_code_faulty.append(i)#appending the faulty index value\n",
    "            dirty_data.loc[i,'branch_code']='TP' #replacing with 'TP'\n",
    "\n",
    "            \n",
    "    elif dirty_data.branch_code[i]=='NS':#applying a condition to check if branch code is 'NS'\n",
    "        if re.search('[A-Z]+',dirty_data.order_id[i]).group() in bk_id:# initializing an if condition to check whether the branch code belongs to bk or not\n",
    "            branch_code_faulty.append(i)#appending the faulty index value\n",
    "            dirty_data.loc[i,'branch_code']='BK'#replacing with 'BK'\n",
    "\n",
    "        elif re.search('[A-Z]+',dirty_data.order_id[i]).group() in tp_id:# initializing an if condition to check whether the branch code belongs to tp or not\n",
    "            branch_code_faulty.append(i)#appending the faulty index value\n",
    "            dirty_data.loc[i,'branch_code']='TP'#replacing with 'TP'\n",
    "    \n",
    "    elif dirty_data.branch_code[i]=='TP':#applying a condition to check if branch code is 'TP'\n",
    "        if re.search('[A-Z]+',dirty_data.order_id[i]).group() in ns_id:# initializing an if condition to check whether the branch code belongs to ns or not\n",
    "            branch_code_faulty.append(i)#appending the faulty index value\n",
    "            dirty_data.loc[i,'branch_code']='NS'#replacing with 'NS'\n",
    "\n",
    "        elif re.search('[A-Z]+',dirty_data.order_id[i]).group() in bk_id: # initializing an if condition to check whether the branch code belongs to bk or not\n",
    "            branch_code_faulty.append(i)#appending the faulty index value\n",
    "            dirty_data.loc[i,'branch_code']='BK'#replacing with 'BK'\n",
    "            \n",
    "print(\"The defective branch codes based on case  are:\",len(branch_code_faulty)) #printing the count of faulty branch codes"
   ]
  },
  {
   "cell_type": "markdown",
   "metadata": {},
   "source": [
    "### Printing the total defective branch codes count"
   ]
  },
  {
   "cell_type": "code",
   "execution_count": 21,
   "metadata": {},
   "outputs": [
    {
     "name": "stdout",
     "output_type": "stream",
     "text": [
      "The total number of defective branch codes are :  57\n"
     ]
    }
   ],
   "source": [
    "print('The total number of defective branch codes are : ',len(branch_fault)+len(branch_code_faulty))"
   ]
  },
  {
   "cell_type": "markdown",
   "metadata": {},
   "source": [
    "### testing the branch code"
   ]
  },
  {
   "cell_type": "code",
   "execution_count": 22,
   "metadata": {},
   "outputs": [
    {
     "data": {
      "text/plain": [
       "order_id                                      ORDA01674\n",
       "date                                         2018-03-02\n",
       "time                                           09:51:32\n",
       "order_type                                    Breakfast\n",
       "branch_code                                          BK\n",
       "order_items                [('Eggs', 4), ('Coffee', 9)]\n",
       "order_price                                       155.5\n",
       "customer_lat                                   -37.8055\n",
       "customer_lon                                    144.955\n",
       "customerHasloyalty?                                   0\n",
       "distance_to_customer_KM                           8.156\n",
       "delivery_fee                                    12.9066\n",
       "Name: 122, dtype: object"
      ]
     },
     "execution_count": 22,
     "metadata": {},
     "output_type": "execute_result"
    }
   ],
   "source": [
    "dirty_data.iloc[122]"
   ]
  },
  {
   "cell_type": "markdown",
   "metadata": {},
   "source": [
    "# d.) Repairing order_items column"
   ]
  },
  {
   "cell_type": "markdown",
   "metadata": {},
   "source": [
    "### Converting the string into list of order_items"
   ]
  },
  {
   "cell_type": "code",
   "execution_count": 23,
   "metadata": {},
   "outputs": [],
   "source": [
    "items_1=[]\n",
    "values_1=[]\n",
    "for i in dirty_data.order_items:\n",
    "    items_1.append(re.findall('([A-Za-z&]+)',i))\n",
    "    values_1.append(re.findall('\\d+',i))\n",
    "\n",
    "new_values= [list(map(int,i)) for i in values_1]\n",
    "new_items=[list(map(str,i)) for i in items_1]\n",
    "new_order_items=[]\n",
    "for i in range(len(new_values)):\n",
    "    new_order_items.append(list(zip(new_items[i],new_values[i])))"
   ]
  },
  {
   "cell_type": "markdown",
   "metadata": {},
   "source": [
    "\n",
    "### Replacing string order items column with list order new column"
   ]
  },
  {
   "cell_type": "code",
   "execution_count": 24,
   "metadata": {},
   "outputs": [],
   "source": [
    "dirty_data['order_items']=new_order_items"
   ]
  },
  {
   "cell_type": "markdown",
   "metadata": {},
   "source": [
    "### Checking a faulty order_items instance\n"
   ]
  },
  {
   "cell_type": "code",
   "execution_count": 25,
   "metadata": {},
   "outputs": [
    {
     "data": {
      "text/plain": [
       "[('Shrimp', 4), ('Burger', 6)]"
      ]
     },
     "execution_count": 25,
     "metadata": {},
     "output_type": "execute_result"
    }
   ],
   "source": [
    "dirty_data.loc[21,'order_items']"
   ]
  },
  {
   "cell_type": "markdown",
   "metadata": {},
   "source": [
    "'After looking at `order_items` column of dirty_data, it can be inferred that there are few instances which contain wrong order items. For example, taking a dinner item as an instance : `dirty_data.loc[21,'order_items'] = [('Shrimp', 4), ('Burger', 6)]`. Here, `Burger` doesn't belong to dinner items and it should be replaced with a correct dinner item.\n",
    "\n"
   ]
  },
  {
   "cell_type": "markdown",
   "metadata": {},
   "source": [
    "Two lists `list_items` and `list_quantities` are initialised to store final items and their corresponding quantities respectively. After iterating through length of dirty data Dataframe, two more lists are initialised namely `list_items` and `list_quantities` to store all the items and their respective quantities of each instance seperately. Each instance of items and their respective quantities are stored back into `list_items` and `list_quantities` \n"
   ]
  },
  {
   "cell_type": "code",
   "execution_count": 26,
   "metadata": {},
   "outputs": [],
   "source": [
    "list_items=[] # initialising a list to store all the order_items rows of Dataframe\n",
    "list_quantities=[] # initialising a list to store all the order_items quantities of Data frame\n",
    "for i in range(len(dirty_data)): #iterating through length of dirty data Dataframe\n",
    "    temp_row_items=[] #initialising a list to store each row items\n",
    "    temp_row_quantities=[] #initialising a list to store each column items\n",
    "    for (a,b) in (dirty_data.order_items[i]): #for each item in instance of a order_item of Dirty Data\n",
    "        temp_row_items.append(a) # appending all the items of an instance into a row list \n",
    "        temp_row_quantities.append(b) # appending all the quantities of an instance into a row list\n",
    "    list_items.append(temp_row_items) #appending each row list items into main items list\n",
    "    list_quantities.append(temp_row_quantities)# appending each row list quantities into a main quantities list"
   ]
  },
  {
   "cell_type": "markdown",
   "metadata": {},
   "source": [
    "## Printing the menus of Breakfast, Lunch and Dinner"
   ]
  },
  {
   "cell_type": "code",
   "execution_count": 27,
   "metadata": {},
   "outputs": [
    {
     "name": "stdout",
     "output_type": "stream",
     "text": [
      "{'Cereal': 21.0, 'Coffee': 7.5, 'Eggs': 22.0, 'Pancake': 24.25}\n",
      "{'Burger': 31.0, 'Chicken': 32.0, 'Fries': 12.0, 'Salad': 17.2, 'Steak': 45.0}\n",
      "{'Fish&Chips': 35.0, 'Pasta': 27.5, 'Salmon': 41.0, 'Shrimp': 54.0}\n"
     ]
    }
   ],
   "source": [
    "print(breakfast_menu)\n",
    "print(lunch_menu)\n",
    "print(dinner_menu)"
   ]
  },
  {
   "cell_type": "markdown",
   "metadata": {},
   "source": [
    "Storing items of each order type as a list into variables like `breakfast_items` and their respective prices in another variable like `breakfast_prices`\n"
   ]
  },
  {
   "cell_type": "code",
   "execution_count": 28,
   "metadata": {},
   "outputs": [],
   "source": [
    "breakfast_items=list(breakfast_menu.keys()) #storing breakfast items into a list\n",
    "breakfast_prices=list(breakfast_menu.values()) #storing break fast prices into a list\n",
    "lunch_items=list(lunch_menu.keys()) #storing lunch items into a list\n",
    "lunch_prices=list(lunch_menu.values()) #storing lunch prices into a list\n",
    "dinner_items=list(dinner_menu.keys()) #storing dinner items into a list\n",
    "dinner_prices=list(dinner_menu.values()) # storing dinner prices into a list\n"
   ]
  },
  {
   "cell_type": "markdown",
   "metadata": {},
   "source": [
    "Iterating through length of dirty data :\n",
    "\n",
    "Method followed to replace faulty order item with the correct order item:\n",
    "\n",
    "Checking if the faulty item is present in a row where order type is `Breakfast`.\n",
    "    If true, for each item in a particular faulty order_items record,\n",
    "    \n",
    "   If that item is present in breakfast items, their respective quantities are multiplied with their respective item prices and each product is stored into a variable `sum1`. This variable is then substracted from `order price value` of that particular instance and stored in `instance_order_price`. All the matched items and  their respective quantities are zipped and the list of all the matched order items are stored into a variable `each_row_variable`. This variable is finally appended into current working index of new list `correct_order_items`. \n",
    "    \n",
    "   If that item is not present in breakfast items, its respective quantity is stored in a variable `qty`. `instance_order_price` is divided with the `qty` and the obtained value is stored into a variable : `price`. For each item in `breakfast prices` if the item is matched with any of the breakfast prices, its corresponding breakfast item is assumed to be the correct order item and this item is replaced instead of faulty order item.  The replaced item and its quantity of faulty order item are zipped and stores into a variable `each row_variable`. This variable is finally appended into current working index of new list `correct_order_items`.\n",
    " \n",
    "Same methodology is followed to detect faulty items in both `Lunch` and `Dinner` instances.\n",
    "\n",
    "All the faulty order items indexes are appended into a list `faulty_order_items`."
   ]
  },
  {
   "cell_type": "code",
   "execution_count": 29,
   "metadata": {},
   "outputs": [
    {
     "name": "stdout",
     "output_type": "stream",
     "text": [
      "The total number of faulty order item instances is : 37\n"
     ]
    }
   ],
   "source": [
    "faulty_order_items=[] #initialising a list to store faulty items\n",
    "correct_order_items = [0]*len(dirty_data) #initialising a list to store order items after changing the faulty items\n",
    "for i in range(len(dirty_data)): #iterating through length of dirty_data dataframe\n",
    "    instance_order_price = dirty_data.order_price[i] #storing order price value of each iteration into a variable\n",
    "    if dirty_data.order_type[i]=='Breakfast': #if the order type is Breakfast\n",
    "        #initialising variables\n",
    "        temp_list1 = []\n",
    "        temp_list2 = []\n",
    "        qty = -1\n",
    "        each_row_value=[]\n",
    "        for j in range(len(list_items[i])): #iterating through length of each row of dataframe that contains order items\n",
    "            \n",
    "            if list_items[i][j] in breakfast_items: # if item lies in breakfast items\n",
    "                sum1=list_quantities[i][j]*breakfast_prices[breakfast_items.index(list_items[i][j])] # multiplying the items quantity with the price of the item and storing it into a variable\n",
    "                instance_order_price=instance_order_price-sum1 # substracting the above achieved value from order price of that partcular row. \n",
    "                temp_list1.append(list_items[i][j]) # appending the item into a list\n",
    "                temp_list2.append(list_quantities[i][j]) # appending that item's quantity into another list\n",
    "                each_row_value=list(zip(temp_list1,temp_list2)) # zipping both item and its respective quantity and converting into a list and storing it into a variable\n",
    "            \n",
    "            elif list_items[i][j] not in breakfast_items:  # if item doesn't lie in breakfast items \n",
    "                qty = list_quantities[i][j] #storing the item value into a variable\n",
    "                \n",
    "            if qty != -1: #a condition to check if the qty holds any item value\n",
    "                price=round(instance_order_price/qty,2) #dividing the above achieved value of 'instance_order_price' with the quantity value from above(where 'instance_order_price' ideally represents a value equivalent to product of right item with its corresponding quantity value)\n",
    "                for h in breakfast_prices: #iterating through values of breakfast prices\n",
    "                    if price==h: #if the achieved price is equal to any of the breakfast prices\n",
    "                        faulty_order_items.append(h) #appending that price into a list which is later used to find the length of faulty items\n",
    "                        temp_list1.append(breakfast_items[breakfast_prices.index(h)]) #replacing the faulty item with the correct item\n",
    "                        temp_list2.append(qty) #appending the quantity of the faulty item\n",
    "                        each_row_value=list(zip(temp_list1,temp_list2)) #zipping both correct item and its respective quantity and storing it into a variable\n",
    "        correct_order_items[i]=each_row_value #finally writing the value into currently iterating index position of new list\n",
    "\n",
    "    if dirty_data.order_type[i]=='Lunch': #if the order type is Lunch\n",
    "        #initialising variables\n",
    "        temp_list1 = []\n",
    "        temp_list2 = []\n",
    "        qty = -1\n",
    "        each_row_value=[]\n",
    "        for j in range(len(list_items[i])): #iterating through length of each row of dataframe that contains order items\n",
    "            \n",
    "            if list_items[i][j] in lunch_items: # if item lies in lunch items\n",
    "                sum1=list_quantities[i][j]*lunch_prices[lunch_items.index(list_items[i][j])] # multiplying the items quantity with the price of the item and storing it into a variable\n",
    "                instance_order_price=instance_order_price-sum1 # substracting the above achieved value from order price of that partcular row. \n",
    "                temp_list1.append(list_items[i][j]) # appending the item into a list\n",
    "                temp_list2.append(list_quantities[i][j]) # appending that item's quantity into another list\n",
    "                each_row_value=list(zip(temp_list1,temp_list2)) # zipping both item and its respective quantity and converting into a list and storing it into a variable\n",
    "            \n",
    "            elif list_items[i][j] not in lunch_items:  # if item doesn't lie lunch items \n",
    "                qty = list_quantities[i][j] #storing the item value into a variable\n",
    "                \n",
    "            if qty != -1: #a condition to check if the qty holds any item value\n",
    "                price=round(instance_order_price/qty,2) #dividing the above achieved value of 'instance_order_price' with the quantity value from above(where 'instance_order_price' ideally represents a value equivalent to product of right item with its corresponding quantity value)\n",
    "                for h in lunch_prices: #iterating through values of lunch prices\n",
    "                    if price==h: #if the achieved price is equal to any of the lunch prices\n",
    "                        faulty_order_items.append(h) #appending that price into a list which is later used to find the length of faulty items\n",
    "                        temp_list1.append(lunch_items[lunch_prices.index(h)]) #replacing the faulty item with the correct item\n",
    "                        temp_list2.append(qty) #appending the quantity of the faulty item\n",
    "                        each_row_value=list(zip(temp_list1,temp_list2)) #zipping both correct item and its respective quantity and storing it into a variable\n",
    "        correct_order_items[i]=each_row_value #finally writing the value into currently iterating index position of new list\n",
    "        \n",
    "    if dirty_data.order_type[i]=='Dinner': #if the order type is Dinner\n",
    "        #initialising variables\n",
    "        temp_list1 = []\n",
    "        temp_list2 = []\n",
    "        qty = -1\n",
    "        each_row_value=[]\n",
    "        for j in range(len(list_items[i])): #iterating through length of each row of dataframe that contains order items\n",
    "            \n",
    "            if list_items[i][j] in dinner_items: # if item lies in breakfast items\n",
    "                sum1=list_quantities[i][j]*dinner_prices[dinner_items.index(list_items[i][j])] # multiplying the items quantity with the price of the item and storing it into a variable\n",
    "                instance_order_price=instance_order_price-sum1 # substracting the above achieved value from order price of that partcular row. \n",
    "                temp_list1.append(list_items[i][j]) # appending the item into a list\n",
    "                temp_list2.append(list_quantities[i][j]) # appending that item's quantity into another list\n",
    "                each_row_value=list(zip(temp_list1,temp_list2)) # zipping both item and its respective quantity and converting into a list and storing it into a variable\n",
    "            \n",
    "            elif list_items[i][j] not in dinner_items:  # if item doesn't lie in dinner items \n",
    "                qty = list_quantities[i][j] #storing the item value into a variable\n",
    "                \n",
    "            if qty != -1: #a condition to check if the qty holds any item value\n",
    "                price=round(instance_order_price/qty,2) #dividing the above achieved value of 'm' with the quantity value from above(where 'm' ideally represents a value equivalent to product of right item with its corresponding quantity value)\n",
    "                for h in dinner_prices: #iterating through values of breakfast prices\n",
    "                    if price==h: #if the achieved price is equal to any of the dinner prices\n",
    "                        faulty_order_items.append(h) #appending that price into a list which is later used to fing the length of faulty items\n",
    "                        temp_list1.append(dinner_items[dinner_prices.index(h)]) #replacing the faulty item with the correct item\n",
    "                        temp_list2.append(qty) #appending the quantity of the faulty item\n",
    "                        each_row_value=list(zip(temp_list1,temp_list2)) #zipping both correct item and its respective quantity and storing it into a variable\n",
    "        correct_order_items[i]=(each_row_value) #finally writing the value into currently iterating index position of new list\n",
    "print('The total number of faulty order item instances is :',len(faulty_order_items))"
   ]
  },
  {
   "cell_type": "markdown",
   "metadata": {},
   "source": [
    "### Replacing the faulty order_items column with correct order items list"
   ]
  },
  {
   "cell_type": "code",
   "execution_count": 30,
   "metadata": {},
   "outputs": [],
   "source": [
    "dirty_data['order_items']=correct_order_items"
   ]
  },
  {
   "cell_type": "markdown",
   "metadata": {},
   "source": [
    "### Testing an instance"
   ]
  },
  {
   "cell_type": "code",
   "execution_count": 31,
   "metadata": {},
   "outputs": [
    {
     "data": {
      "text/plain": [
       "[('Shrimp', 4), ('Pasta', 6)]"
      ]
     },
     "execution_count": 31,
     "metadata": {},
     "output_type": "execute_result"
    }
   ],
   "source": [
    "dirty_data.loc[21,'order_items']"
   ]
  },
  {
   "cell_type": "markdown",
   "metadata": {},
   "source": [
    "# e.) Repairing Order Price column"
   ]
  },
  {
   "cell_type": "markdown",
   "metadata": {},
   "source": [
    "### Faulty Row with wrong order price"
   ]
  },
  {
   "cell_type": "code",
   "execution_count": 32,
   "metadata": {},
   "outputs": [
    {
     "data": {
      "text/plain": [
       "order_id                                                           ORDJ09129\n",
       "date                                                              2018-05-07\n",
       "time                                                                12:13:31\n",
       "order_type                                                             Lunch\n",
       "branch_code                                                               TP\n",
       "order_items                [(Fries, 3), (Steak, 6), (Burger, 6), (Chicken...\n",
       "order_price                                                              232\n",
       "customer_lat                                                        -37.8043\n",
       "customer_lon                                                         144.971\n",
       "customerHasloyalty?                                                        0\n",
       "distance_to_customer_KM                                                9.847\n",
       "delivery_fee                                                         13.3625\n",
       "Name: 5, dtype: object"
      ]
     },
     "execution_count": 32,
     "metadata": {},
     "output_type": "execute_result"
    }
   ],
   "source": [
    "dirty_data.iloc[5]"
   ]
  },
  {
   "cell_type": "markdown",
   "metadata": {},
   "source": [
    "After viewing `order_price` column of dirty_data DataFrame, it can be inferred that there are few instances where order_prices seems to be odd. For example, by looking at `dirty_data.iloc[5]` row, it is noticed that order_price is displayed as `232` but upon calculating each item's price i.e. in `[('Fries', 3), ('Steak', 6), ('Burger', 6), ('Chicken', 4), ('Salad', 6)]` with its quantity, the value comes out to be `732.2`. "
   ]
  },
  {
   "cell_type": "code",
   "execution_count": 33,
   "metadata": {},
   "outputs": [],
   "source": [
    "# Creating a dictionary that contains menu of Breakfast, Lunch, and Dinner\n",
    "total_items = dict(list(lunch_menu.items()) + list(dinner_menu.items()) + list(breakfast_menu.items()))"
   ]
  },
  {
   "cell_type": "markdown",
   "metadata": {},
   "source": [
    "In order to find the faulty prices, Iterate through length of `dirty_data`:\n",
    "\n",
    "   For each item in an instance, the item's price is multiplied with its quantity and appended into `sublist`. After each instance, sublist contains final prices of items of that particular instance. Its sum is calculated by using `sum()` method and the final sum value is appended into a list called `mainlist`.  This `mainlist` holds the correct order_price for every instance. \n",
    "   \n",
    "   Applying a condition to check if an instance of `dirty_data.order_price` is not equal to `mainlist instance`. If the condition is true, all such indexes are appended into a list `defectiveorderprice` and faulty record `dirty_data.loc[i,'order_price']` is replaced with the correct order_price `mainlist[i]`"
   ]
  },
  {
   "cell_type": "code",
   "execution_count": 34,
   "metadata": {},
   "outputs": [
    {
     "name": "stdout",
     "output_type": "stream",
     "text": [
      "The total number of defective order prices are : 37\n"
     ]
    }
   ],
   "source": [
    "# total_items = dict(list(lunch_menu.items()) + list(dinner_menu.items()) + list(breakfast_menu.items()))\n",
    "mainlist = [] #initialising a list to store the correct order price values\n",
    "defectiveorderprice=[] #inititalising a list to store faulty order price indexes\n",
    "for i in range(len(dirty_data)): # iterating through the length of the dirty data\n",
    "    sublist = [] #initialise a sublist to store each item's final price\n",
    "    for a,b in dirty_data.order_items[i]: #for each item in an instance of order item\n",
    "        sublist.append(total_items[a]*b) #appending the final price of an item into a list\n",
    "        sumsublist = sum(sublist) #calculating sum of all products of an instance\n",
    "    mainlist.append(round(sumsublist,2)) #appending the final sum of each instance into a list after rounding the value to 2\n",
    "    if mainlist[i] != dirty_data.order_price[i]: #condition to check final sum and actual order price value\n",
    "        defectiveorderprice.append(i) #appending the indexes of wrong order price values\n",
    "        dirty_data.loc[i,'order_price'] = mainlist[i] #replacing the wrong order price value with the calculated order price value\n",
    "print('The total number of defective order prices are :',len(defectiveorderprice)) #printing the total number of defective order price values"
   ]
  },
  {
   "cell_type": "markdown",
   "metadata": {},
   "source": [
    "### Testing the faulty row for correct order price"
   ]
  },
  {
   "cell_type": "code",
   "execution_count": 35,
   "metadata": {},
   "outputs": [
    {
     "data": {
      "text/plain": [
       "order_id                                                           ORDJ09129\n",
       "date                                                              2018-05-07\n",
       "time                                                                12:13:31\n",
       "order_type                                                             Lunch\n",
       "branch_code                                                               TP\n",
       "order_items                [(Fries, 3), (Steak, 6), (Burger, 6), (Chicken...\n",
       "order_price                                                            723.2\n",
       "customer_lat                                                        -37.8043\n",
       "customer_lon                                                         144.971\n",
       "customerHasloyalty?                                                        0\n",
       "distance_to_customer_KM                                                9.847\n",
       "delivery_fee                                                         13.3625\n",
       "Name: 5, dtype: object"
      ]
     },
     "execution_count": 35,
     "metadata": {},
     "output_type": "execute_result"
    }
   ],
   "source": [
    "dirty_data.iloc[5]"
   ]
  },
  {
   "cell_type": "markdown",
   "metadata": {},
   "source": [
    "# f.) Repairing Latitude and longitude column"
   ]
  },
  {
   "cell_type": "markdown",
   "metadata": {},
   "source": [
    "After performing exploratory data analysis on latitude and logitude columns of dirty data, it can be inferred that there are few rows where atitude contains longitude values and vice versa. For example, `dirty_data.loc[144,csutomerlat]=144.954` and `dirty_data.loc[144,customerlon]=-37.8045` which is wrong.\n",
    "\n",
    "Also, there are few rows where latitude values are positive which is ideally false. For example, `dirty_data.loc[240,customerlat]=37.8002` which is wrong and ideally should be `-37.8002`\n",
    "\n",
    "\n",
    "In order to repair such instances, following steps are performed:\n",
    "\n",
    "1) Identifying all rows that contain positive latitude values and negative longitude values by applying a condition where latitude value is greater than zero and longitude value is less than zero. After identifying such rows, swapping latitude value with its corresponding longitude value.\n",
    "\n",
    "2) Identifying all rows that contain positive latitude values by applying a condition where both latitude and its corresponding longitude values are greater than zero. After identifying such rows, replacing the customer_latitude value with its negative value by multiplying it with `-1` in the dirty dataframe.\n",
    "\n",
    "All the faulty indexes are appended into `lat_lon_list`"
   ]
  },
  {
   "cell_type": "markdown",
   "metadata": {},
   "source": [
    "### Faulty Latitude and Longitude instance"
   ]
  },
  {
   "cell_type": "code",
   "execution_count": 36,
   "metadata": {},
   "outputs": [
    {
     "name": "stdout",
     "output_type": "stream",
     "text": [
      "order_id                                                           ORDA11026\n",
      "date                                                              2018-06-14\n",
      "time                                                                13:24:30\n",
      "order_type                                                             Lunch\n",
      "branch_code                                                               BK\n",
      "order_items                [(Steak, 9), (Burger, 10), (Chicken, 4), (Sala...\n",
      "order_price                                                            954.6\n",
      "customer_lat                                                         144.954\n",
      "customer_lon                                                        -37.8045\n",
      "customerHasloyalty?                                                        0\n",
      "distance_to_customer_KM                                                8.416\n",
      "delivery_fee                                                          14.232\n",
      "Name: 144, dtype: object\n"
     ]
    }
   ],
   "source": [
    "print(dirty_data.iloc[144])"
   ]
  },
  {
   "cell_type": "code",
   "execution_count": 37,
   "metadata": {},
   "outputs": [
    {
     "data": {
      "text/plain": [
       "order_id                                                           ORDK10268\n",
       "date                                                              2018-07-25\n",
       "time                                                                14:45:38\n",
       "order_type                                                             Lunch\n",
       "branch_code                                                               BK\n",
       "order_items                [(Steak, 9), (Burger, 1), (Fries, 6), (Chicken...\n",
       "order_price                                                              540\n",
       "customer_lat                                                         37.8002\n",
       "customer_lon                                                         144.968\n",
       "customerHasloyalty?                                                        0\n",
       "distance_to_customer_KM                                                7.713\n",
       "delivery_fee                                                         13.2342\n",
       "Name: 240, dtype: object"
      ]
     },
     "execution_count": 37,
     "metadata": {},
     "output_type": "execute_result"
    }
   ],
   "source": [
    "dirty_data.iloc[240]"
   ]
  },
  {
   "cell_type": "code",
   "execution_count": 38,
   "metadata": {},
   "outputs": [
    {
     "name": "stdout",
     "output_type": "stream",
     "text": [
      "The total number of defective latitude, longitude instances are : 41\n"
     ]
    }
   ],
   "source": [
    "lat_lon_list=[] #initialising a list to store the indexes of faulty latitudes and longitudes in the dataframe\n",
    "for i in range(len(dirty_data)): # iterating through the length of dirty_data dataframe\n",
    "    #checking for rows where latitude contains longitude values and vice-versa\n",
    "    if dirty_data.customer_lat[i]>0 and dirty_data.customer_lon[i]<0: # applying condition where customer latitude is greater than zero and longitude is less than zero\n",
    "        lat_lon_list.append(i) # appending the faulty indexes\n",
    "        temp=dirty_data.customer_lon[i] #storing the customer longitude into a temporary variable\n",
    "        dirty_data.loc[i,'customer_lon']=dirty_data.customer_lat[i] # replacing the faulty value of longitude with correct value in the dataframe\n",
    "        dirty_data.loc[i,'customer_lat']=temp # replacing the faulty value of latitude with the correct value in a dataframe\n",
    "\n",
    "    #checking for rows where latitude values are positive\n",
    "    elif dirty_data.customer_lat[i]>0 and dirty_data.customer_lon[i]>0: #condition for checking the rows that contain positive latitude values\n",
    "        lat_lon_list.append(i) # appending the faulty indexes\n",
    "        dirty_data.loc[i,'customer_lat']=-1*(dirty_data.customer_lat[i]) # replacing the faulty positive value of latitude with the correct negative value in a dataframe\n",
    "\n",
    "print('The total number of defective latitude, longitude instances are :',len(lat_lon_list))        "
   ]
  },
  {
   "cell_type": "markdown",
   "metadata": {},
   "source": [
    "### Testing the Faulty latitude,longitude instance"
   ]
  },
  {
   "cell_type": "code",
   "execution_count": 39,
   "metadata": {},
   "outputs": [
    {
     "data": {
      "text/plain": [
       "order_id                                                           ORDA11026\n",
       "date                                                              2018-06-14\n",
       "time                                                                13:24:30\n",
       "order_type                                                             Lunch\n",
       "branch_code                                                               BK\n",
       "order_items                [(Steak, 9), (Burger, 10), (Chicken, 4), (Sala...\n",
       "order_price                                                            954.6\n",
       "customer_lat                                                        -37.8045\n",
       "customer_lon                                                         144.954\n",
       "customerHasloyalty?                                                        0\n",
       "distance_to_customer_KM                                                8.416\n",
       "delivery_fee                                                          14.232\n",
       "Name: 144, dtype: object"
      ]
     },
     "execution_count": 39,
     "metadata": {},
     "output_type": "execute_result"
    }
   ],
   "source": [
    "dirty_data.iloc[144]"
   ]
  },
  {
   "cell_type": "code",
   "execution_count": 40,
   "metadata": {},
   "outputs": [
    {
     "data": {
      "text/plain": [
       "order_id                                                           ORDK10268\n",
       "date                                                              2018-07-25\n",
       "time                                                                14:45:38\n",
       "order_type                                                             Lunch\n",
       "branch_code                                                               BK\n",
       "order_items                [(Steak, 9), (Burger, 1), (Fries, 6), (Chicken...\n",
       "order_price                                                              540\n",
       "customer_lat                                                        -37.8002\n",
       "customer_lon                                                         144.968\n",
       "customerHasloyalty?                                                        0\n",
       "distance_to_customer_KM                                                7.713\n",
       "delivery_fee                                                         13.2342\n",
       "Name: 240, dtype: object"
      ]
     },
     "execution_count": 40,
     "metadata": {},
     "output_type": "execute_result"
    }
   ],
   "source": [
    "dirty_data.iloc[240]"
   ]
  },
  {
   "cell_type": "markdown",
   "metadata": {},
   "source": [
    "# g.)Fixing distance_to_customer_KM column using Djikistra Algorithm"
   ]
  },
  {
   "cell_type": "markdown",
   "metadata": {},
   "source": [
    "\n",
    "\n",
    "Dijkstra's algorithm , Also known as the **Shortest Path First** Algorithm is used to find the shortest \n",
    "path from one node of the graph to every other node of the Graph.\n",
    "\n",
    "For Example : The nodes may represent road networks.\n",
    "\n",
    "\n",
    "\n",
    "The weighted  graph consits of  Source verticies, Destination Verticies , edges and the weights of the edges.\n",
    "\n",
    "In this case, the source vertex is the Restaurant Branch Nodes and the Destinatioon vertex is the customer nodes and the weights are the distances in Kilometers from the customer lattiude and longitude.\n",
    "\n",
    "\n",
    "### Methodology : \n",
    "\n",
    "The distance is computed using the Dijkstra Shortest path length and is stored in a list.\n",
    "\n",
    "The computed distances are then compared with the distances in the dirty dataframe . If the computed distances are not present in \n",
    "the dataframe then, they are replaced.\n",
    "\n",
    "The first part includes initializing an empty Graph and adding edges with the weight to the empty Graph.\n",
    "\n",
    "The empty Graph is initialized using the nertworkx library. \n",
    "\n",
    "The syntax for initializing an empty graph is :\n",
    "nx.Graph()\n",
    "\n",
    "The nx.add_edge() is used to add the Source, Destination and the weights of the edges.\n",
    "\n",
    "It takes in 3 arguments, namely, source edge (u)  , Destination (v) and Weight (distnace).\n",
    "\n",
    "The source edges in this case are the list of the column u in the edges.csv\n",
    "\n",
    "\n",
    "The destination edges in this case are the list of the column V in the edges.csv\n",
    "\n",
    "\n",
    "\n",
    "The weights in this case are the distances between U and V . \n",
    "\n",
    "\n",
    "\n",
    "\n",
    "\n",
    "\n",
    "There are three steps in computing the distances using Dijkstra algorithm. They are : \n",
    "\n",
    "### a) Obtaining the Source Nodes : \n",
    "\n",
    "The source nodes are obtained by Comparing the lattitude and longitude of each Branch from the Branches.csv dataframe.\n",
    "with the node lattitude and longitude from the nodes.csv.\n",
    "\n",
    "The corresponding indexes where the node lattitude and longitude are equal to the branch lattitude and longitude are used to obtain the corresponding Source Nodes at the Particular Index. \n",
    "\n",
    "\n",
    "The source nodes for the three branches are then stored into three variables for each branch respectively.\n",
    "\n",
    "The Source nodes are obtained from the nodes.csv.\n",
    "\n",
    "\n",
    "#### b) Obtaining the destination nodes.\n",
    "\n",
    "The destination in this case is the customer location.\n",
    "\n",
    "The destination can be found out by using the Group069_missing_data.csv and nodes.csv.\n",
    "\n",
    "A For loop is initialized to traverse through the length of the  missing_data dataframe (Group069_missing_data.csv ).\n",
    "\n",
    "\n",
    "The indexes where the customer lattitude and longitude are equal to the node lattitude and longitude of the nodes dataframe \n",
    "are used to obtain the node numbers for each customer from the nodes.csv file.\n",
    "\n",
    "This operation is perfornmed branch wise. i.e. for Bk, TP and NS branches.\n",
    "\n",
    "All the nodes of the destinatioon are stored in  a list , which is used for the further operations.\n",
    "\n",
    "\n",
    "#### c.)  Computing the Dijkstra Path Lengths for each branch :\n",
    "\n",
    "The dijkstra path lengths are computed using the  `nx.dijkstra_path_length(G,source_node,destination_node)/1000` command.\n",
    "\n",
    "The  Function **nx.dijkstra_path_length()** returns the shortest path length from the Source to Target in a weighted Graph.\n",
    "\n",
    "This function takes 3 arguments : \n",
    "\n",
    "1.)  The Weighted Graph (G).\n",
    "\n",
    "2.)  The Source Node. i.e. the Branch Node Numbers.\n",
    "\n",
    "3.) The Destination Nodes .i.e. The customer node numbers.\n",
    "\n",
    "4.) The output is divided by 1000 as the distance is in KM's. ( Kilometers).\n",
    "\n",
    "5.) Each Distance is stored in a distance list at the corresponding index for each branch\n",
    "\n",
    "\n",
    "\n",
    "#### d.) Replacing the distances : \n",
    "The faulty distances are replaced by  iterating through the length of the dataframe and then inspecting whether the\n",
    "given values at the indexes are same as the values in the list.\n",
    "\n",
    "If the values are not same, the values in the distance_to_customer_KM coloumn  are replaced with the values in the \n",
    "obtained list.\n",
    "\n",
    "\n",
    " ### creating DataFrames for brances,nodes and edges csv files : \n",
    "    \n"
   ]
  },
  {
   "cell_type": "code",
   "execution_count": 41,
   "metadata": {},
   "outputs": [],
   "source": [
    "branches = pd.read_csv('branches.csv')\n",
    "nodes = pd.read_csv('nodes.csv')\n",
    "edges = pd.read_csv('edges.csv')"
   ]
  },
  {
   "cell_type": "markdown",
   "metadata": {},
   "source": [
    "### a) Obtaining Source Nodes"
   ]
  },
  {
   "cell_type": "code",
   "execution_count": 42,
   "metadata": {},
   "outputs": [],
   "source": [
    "G = nx.Graph() # Initializing an empty Graph with no nodes and edges.\n",
    "\n",
    "\n",
    "u = list(edges['u'])  # Taking the list of  U verticies from the edges dataframe\n",
    "v = list(edges['v']) # Taking the list of V verticies from the edges dataframe \n",
    "distance = list(edges['distance(m)']) # Taking the distance ( weights) as list from the edges dataframe\n",
    "\n",
    "\n",
    "\n",
    "\n",
    "node = list(nodes.node) # Taking the node numbers from the nodes dataframe\n",
    "nodes_lat = list(nodes.lat) # Taking the lattitude as a list from the nodes latitude dataframe\n",
    "nodes_lon = list(nodes.lon) # Taking the longitude as a list from the nodes dataframe.\n",
    " \n",
    "for i in range(len(u)): # Iterating through the length of the verticies inorder to add edges\n",
    "    G.add_edge(u[i],v[i],weight = distance[i]) # Adding the acquired edges. \n",
    "    \n",
    "NS_lat = branches[branches.branch_code == \"NS\"].branch_lat[0]  #Taking the latitude for the NS Branch from the branches dataframe\n",
    "NS_lon = branches[branches.branch_code == \"NS\"].branch_lon[0]  #Taking the longitude for the NS Branch from the branches dataframe\n",
    "TP_lat = branches[branches.branch_code == \"TP\"].branch_lat[1]  #Taking the latitude for the TP Branch from the branches dataframe\n",
    "TP_lon = branches[branches.branch_code == \"TP\"].branch_lon[1]  #Taking the longitude for the TP Branch from the branches dataframe\n",
    "BK_lat = branches[branches.branch_code == \"BK\"].branch_lat[2]  #Taking the latitude for the BK Branch from the branches dataframe\n",
    "BK_lon = branches[branches.branch_code == \"BK\"].branch_lon[2]  #Taking the longitude for the BK  Branch from the branches dataframe\n",
    "\n",
    "\n",
    "\n",
    "\n",
    "\n",
    "node_NS = 0 # Initializing a variable to store the Node Number for NS Branch .\n",
    "for i in range(len(nodes_lat)): # iterating through the nodes lattitude list to obtain the node number\n",
    "    # The node lattitude and longitude  for the index i are checked to see whether they are equal to the NS Latitude and Longitude\n",
    "    # The index where the Node Latitude and Longitude == NS Latitude and Longitude is used inorder to retrieve the corresponding node number\n",
    "    if NS_lat == nodes_lat[i] and NS_lon == nodes_lon[i]:\n",
    "        \n",
    "        node_NS = nodes['node'][i] # The corresponding node number is stored in the node_NS variable\n",
    "        \n",
    "        \n",
    "        \n",
    "node_TP = 0  #  Initializing a variable to store the Node Number for TP Branch .\n",
    "for i in range(len(nodes_lat)): # iterating through the nodes lattitude list to obtain the node number.\n",
    "        \n",
    "    # The node lattitude and longitude  for the index i are checked to see whether they are equal to the NS Latitude and Longitude\n",
    "    # The index where the Node Latitude and Longitude == NS Latitude and Longitude is used inorder to retrieve the corresponding node number\n",
    "\n",
    "    if TP_lat == nodes_lat[i] and TP_lon == nodes_lon[i]:\n",
    "        node_TP = nodes['node'][i] # The corresponding Node Number for the TP Branch is saved in the node_TP Variable.\n",
    "        \n",
    "        \n",
    "node_BK = 0 #  Initializing a variable to store the Node Number for BK Branch .\n",
    "\n",
    "\n",
    "for i in range(len(nodes_lat)):  # iterating through the nodes lattitude list to obtain the node number.\n",
    "    \n",
    "    # The node lattitude and longitude  for the index i are checked to see whether they are equal to the NS Latitude and Longitude\n",
    "    # The index where the Node Latitude and Longitude == NS Latitude and Longitude is used inorder to retrieve the corresponding node number\n",
    "\n",
    "    if BK_lat == nodes_lat[i] and BK_lon == nodes_lon[i]:\n",
    "        node_BK = nodes['node'][i] #The node number for BK Branch is stoed in the node_BK Variable.\n",
    "        \n",
    " \n"
   ]
  },
  {
   "cell_type": "markdown",
   "metadata": {},
   "source": [
    "#### b) Obtaining the Destination Nodes "
   ]
  },
  {
   "cell_type": "code",
   "execution_count": 43,
   "metadata": {},
   "outputs": [],
   "source": [
    "main_list = [0]*len(dirty_data) # Initializing a list to store the destination nodes.\n",
    "\n",
    "for i in range(len(dirty_data)): # Iterating through the length of the missing data.\n",
    "    # The destination nodes are obtained by checking if the customer lattitude and longitude are equal to the node lattitude and longitude.\n",
    "    # The corresponding index where the customer lattitude and longitude are equal to node lattitude and longitude are selected and the corresponding node number at that index is retrieved\n",
    "    if dirty_data.branch_code[i] == \"NS\": # Obtaining the node numbers for NS Branch\n",
    "        # If condition to check whether the node lat and lon are equal to customer lattiude and longitude\n",
    "        if dirty_data.customer_lat[i] in nodes_lat and dirty_data.customer_lon[i] in nodes_lon:\n",
    "            # Appending the node numbers to the mainlist at the same index position\n",
    "            main_list[i] = node[nodes_lat.index(dirty_data.customer_lat[i])]\n",
    "    # An elif condition to check for the TP Branch.\n",
    "    elif dirty_data.branch_code[i] == \"TP\":\n",
    "        # an if condition to check if the customer lat and lon are equal to the node lat and lon\n",
    "        if dirty_data.customer_lat[i] in nodes_lat and dirty_data.customer_lon[i] in nodes_lon:\n",
    "            # Adding the nodes to the main_list\n",
    "            main_list[i] = node[nodes_lat.index(dirty_data.customer_lat[i])]\n",
    "            \n",
    "            \n",
    "    # Initializing an elif conditon for the BK Branch        \n",
    "    elif dirty_data.branch_code[i] == \"BK\":\n",
    "        # Initializsing an if condition to check if the customer latitude and longitude are equal to the node lat and lon\n",
    "        if dirty_data.customer_lat[i] in nodes_lat and dirty_data.customer_lon[i] in nodes_lon:\n",
    "            # Appending the nodes to the main list at the same index position\n",
    "            main_list[i] = node[nodes_lat.index(dirty_data.customer_lat[i])]\n",
    "            \n",
    " "
   ]
  },
  {
   "cell_type": "markdown",
   "metadata": {},
   "source": [
    " #### c) computing Dijkstra Path lengths (distances) for each column "
   ]
  },
  {
   "cell_type": "code",
   "execution_count": 44,
   "metadata": {},
   "outputs": [],
   "source": [
    "# initializing a main distance list inorder to store the distances\n",
    "main_distance_list = [0]*len(dirty_data)\n",
    "# iterating through the length of the missing data\n",
    "for i in range(len(dirty_data)):\n",
    "    # Computing distances for The BK branch\n",
    "    if dirty_data.branch_code[i] == \"BK\":\n",
    "        # the nx.dijkstra_path_length() takes in 3 arguments, the Graph, Source , and Destination and returns  the shortest path length\n",
    "        # The distance is divided by 1000 inorder to change the units to Kilometers\n",
    "        main_distance_list[i] = nx.dijkstra_path_length(G,node_BK,main_list[i])/1000\n",
    "    \n",
    "    # Computing dijikstra path length for NS \n",
    "    elif dirty_data.branch_code[i] == \"NS\":\n",
    "        #passing the Source, Destination for BK  Branch in the nx.dijkstrapath_length() \n",
    "        # Dividing the distances by 1000 inorder to change the units to KM\n",
    "        main_distance_list[i] = nx.dijkstra_path_length(G,node_NS,main_list[i])/1000\n",
    "    \n",
    "    elif dirty_data.branch_code[i] == \"TP\": # Computing the shortest path for TP \n",
    "        # Passing the Source, destination and Graph in the dijkstra_path_length function.\n",
    "        # Dividing the obtained distance by 1000 inorder to convert to KM.\n",
    "        main_distance_list[i] = nx.dijkstra_path_length(G,node_TP,main_list[i])/1000\n",
    "    \n",
    "        \n"
   ]
  },
  {
   "cell_type": "markdown",
   "metadata": {},
   "source": [
    "## Replacing Bad Distances with good ones using the Dijkistra Distances   "
   ]
  },
  {
   "cell_type": "code",
   "execution_count": 45,
   "metadata": {},
   "outputs": [
    {
     "name": "stdout",
     "output_type": "stream",
     "text": [
      "The total number of defective distances : 58\n"
     ]
    }
   ],
   "source": [
    "dirty_data_distance = list(dirty_data.distance_to_customer_KM)\n",
    "dirty_data_distance = [round(x,3) for x in dirty_data_distance]\n",
    "\n",
    "\n",
    "defectivediji = []\n",
    "for i in range(len(main_distance_list)):\n",
    "    if dirty_data_distance[i] != main_distance_list[i]:\n",
    "        defectivediji.append(i)\n",
    "        dirty_data_distance[i] = main_distance_list[i]\n",
    "print('The total number of defective distances :',len(defectivediji))"
   ]
  },
  {
   "cell_type": "code",
   "execution_count": 46,
   "metadata": {},
   "outputs": [],
   "source": [
    "dirty_data.distance_to_customer_KM = dirty_data_distance"
   ]
  },
  {
   "cell_type": "markdown",
   "metadata": {},
   "source": [
    "# Dealing with Missing Data : \n",
    "\n",
    "\n",
    "### Reading the Data :\n",
    "\n",
    "The CSV file is read using the pandas.read_csv() function.\n",
    "\n",
    "  "
   ]
  },
  {
   "cell_type": "code",
   "execution_count": 47,
   "metadata": {},
   "outputs": [],
   "source": [
    "missing_data = pd.read_csv('Group069_missing_data.csv')"
   ]
  },
  {
   "cell_type": "markdown",
   "metadata": {},
   "source": [
    "###  Calculating the missing values per column:\n",
    "\n",
    "The missing values can be calculated by using the pandas.dataframe.isna() function.\n",
    "\n",
    "The Number of missing values per column can be calculated using the sum() function."
   ]
  },
  {
   "cell_type": "code",
   "execution_count": 48,
   "metadata": {},
   "outputs": [
    {
     "data": {
      "text/plain": [
       "order_id                     0\n",
       "date                         0\n",
       "time                         0\n",
       "order_type                   0\n",
       "branch_code                100\n",
       "order_items                  0\n",
       "order_price                  0\n",
       "customer_lat                 0\n",
       "customer_lon                 0\n",
       "customerHasloyalty?          0\n",
       "distance_to_customer_KM     50\n",
       "delivery_fee                50\n",
       "dtype: int64"
      ]
     },
     "execution_count": 48,
     "metadata": {},
     "output_type": "execute_result"
    }
   ],
   "source": [
    "missing_data.isna().sum() # using the .isna().sum() method to compute the number of missing values in each column"
   ]
  },
  {
   "cell_type": "markdown",
   "metadata": {},
   "source": [
    "It can be seen that , there are `100` missing values in the branc_code column, `50` missing values in the distance_to_customer_KM\n",
    "and `50` missing values in delivery_fee column. \n",
    "\n",
    "Hence, there are  a total of `200` missing values. \n",
    "\n",
    "The tasks for imputing the missing values are:\n",
    "\n",
    "a) Imputing the missing branch codes based on order-id\n",
    "\n",
    "b) Imputing the missing the distances using Djikstra algorithm\n",
    "\n",
    "c) Imputing the missing Delivery Fee Using Linear Regression\n"
   ]
  },
  {
   "cell_type": "markdown",
   "metadata": {},
   "source": [
    "###  Imputing the missing branch codes : \n",
    "\n",
    "#### Methodology : \n",
    "\n",
    "The branch codes are imputed using the order_id column, it can be observed from the order_id column that there are 3 patterns of the non-numeric part for each order-id, for each branch.\n",
    "\n",
    "i.e. there are 9 patterns in total for 3 Branches.\n",
    "\n",
    "\n",
    "The branch codes are collected from the **outlier data** as there are no missing values in the branchcode column\n",
    "and the order-id's do not have any errors.\n",
    "\n",
    "The obtianed patterns for BK are : \n",
    "\n",
    "`['ORDX', 'ORDK', 'ORDA']`\n",
    "\n",
    "The obtained patterns for TP are : \n",
    "\n",
    "`['ORDB', 'ORDY', 'ORDJ']`\n",
    "\n",
    "\n",
    "The observed patterns for NS are :\n",
    "\n",
    "`['ORDZ', 'ORDI', 'ORDC']`\n",
    "\n",
    "The **missing indexes** for the branchcodes are stored in a list. The missing indexes are stored using the .index method  of the pandas dataframe and the indexes are stored in a list using the .to_list() method of pandas, which converts values into a list. The missing indexes can be found using .isnull() method.\n",
    "\n",
    "The order id's for the three branches are acquired by taking three subdataframes for each branch.\n",
    "\n",
    "The order id of each subdataframe is stored in a list. The order ids are then iterated and the first 4 characters\n",
    "of the order id's are fetched using `re.search()` method with the regular expression `[A-Z]+`, which represents\n",
    "a combination of one ore more uppercase letters.\n",
    "\n",
    "The unique order id's are then stored into a list using the `set()` function, to store the distinct order id's.\n",
    "\n",
    "\n",
    "Using the obtained order id's the branch codes are then imputed based on the pattern of the orderid , by initializing a for loop to iterate through the missing index list and imputing the  values of the branchcode based on the order codes at that particular  index."
   ]
  },
  {
   "cell_type": "code",
   "execution_count": 49,
   "metadata": {},
   "outputs": [],
   "source": [
    "branchcodemissingindexes = missing_data[missing_data['branch_code'].isnull()].index.tolist() # Finding the indexes of missing_data values using the .isnull() method aand .index() method and converting into a list using .to_list() method.\n"
   ]
  },
  {
   "cell_type": "code",
   "execution_count": 50,
   "metadata": {},
   "outputs": [],
   "source": [
    "for i in branchcodemissingindexes: # Initializing a for loop to iterate through the missing indexes of the branchcode\n",
    "    if (re.search('[A-Z]+',missing_data.order_id[i]).group()) in bk_id: # initializing an if condition to check whether the branch code belongs to BK or not\n",
    "        missing_data.loc[i,'branch_code'] = 'BK'  # Imputing branch code BK\n",
    "    elif (re.search('[A-Z]+',missing_data.order_id[i]).group()) in ns_id: # initializing an elif condition to check whether the branch code belongs to NS or not\n",
    "        missing_data.loc[i,'branch_code'] = 'NS'     #Imputing branch code NS\n",
    "    elif (re.search('[A-Z]+',missing_data.order_id[i]).group()) in tp_id: #  initializing an if condition to check whether the branch code belongs to TP or not\n",
    "            missing_data.loc[i,'branch_code'] = 'TP'  #Imputing branch code  TP"
   ]
  },
  {
   "cell_type": "code",
   "execution_count": 51,
   "metadata": {},
   "outputs": [
    {
     "data": {
      "text/plain": [
       "order_id                    0\n",
       "date                        0\n",
       "time                        0\n",
       "order_type                  0\n",
       "branch_code                 0\n",
       "order_items                 0\n",
       "order_price                 0\n",
       "customer_lat                0\n",
       "customer_lon                0\n",
       "customerHasloyalty?         0\n",
       "distance_to_customer_KM    50\n",
       "delivery_fee               50\n",
       "dtype: int64"
      ]
     },
     "execution_count": 51,
     "metadata": {},
     "output_type": "execute_result"
    }
   ],
   "source": [
    "# Testing whether the branch codes were imputed properly or not : \n",
    "missing_data.isna().sum()"
   ]
  },
  {
   "cell_type": "markdown",
   "metadata": {},
   "source": [
    "## Imputing the missing distances  Distance using Djikstra algorithm :"
   ]
  },
  {
   "cell_type": "code",
   "execution_count": 52,
   "metadata": {},
   "outputs": [],
   "source": [
    "distancemissingindexes = missing_data[missing_data['distance_to_customer_KM'].isnull()].index.tolist() # Collecting the missing distance indexes in a list using the .index method and .to_list() method."
   ]
  },
  {
   "cell_type": "markdown",
   "metadata": {},
   "source": [
    "##  Imputing  the missing distances using Dijkstra's algorithm :\n",
    "\n",
    "Dijkstra's algorithm , Also known as the **Shortest Path First** Algorithm is used to find the shortest \n",
    "path from one node of the graph to every other node of the Graph.\n",
    "\n",
    "For Example : The nodes may represent road networks.\n",
    "\n",
    "\n",
    "\n",
    "The weighted  graph consits of  Source verticies, Destination Verticies , edges and the weights of the edges.\n",
    "\n",
    "In this case, the source vertex is the Restaurant Branch Nodes and the Destinatioon vertex is the customer nodes and the weights are the distances in Kilometers from the customer lattiude and longitude.\n",
    "\n",
    "\n",
    "### Methodology : \n",
    "\n",
    "The missing distance indexes are stored using the .index method of the pandas dataframe.\n",
    "\n",
    "They are stored in a list using the .to_list() function.\n",
    "\n",
    "\n",
    "The first part includes initializing an empty Graph and adding edges with the weight to the empty Graph.\n",
    "\n",
    "The empty Graph is initialized using the nertworkx library. \n",
    "\n",
    "The syntax for initializing an empty graph is :\n",
    "nx.Graph()\n",
    "\n",
    "The nx.add_edge() is used to add the Source, Destination and the weights of the edges.\n",
    "\n",
    "It takes in 3 arguments, namely, source edge (u)  , Destination (v) and Weight (distnace).\n",
    "\n",
    "The source edges in this case are the list of the column u in the edges.csv\n",
    "\n",
    "\n",
    "The destination edges in this case are the list of the column V in the edges.csv\n",
    "\n",
    "\n",
    "\n",
    "The weights in this case are the distances between U and V . \n",
    "\n",
    "\n",
    "\n",
    "\n",
    "\n",
    "\n",
    "There are three steps in computing the distances using Dijkstra algorithm. They are : \n",
    "\n",
    "### a) Obtaining the Source Nodes : \n",
    "\n",
    "The source nodes are obtained by Comparing the lattitude and longitude of each Branch from the Branches.csv dataframe.\n",
    "with the node lattitude and longitude from the nodes.csv.\n",
    "\n",
    "The corresponding indexes where the node lattitude and longitude are equal to the branch lattitude and longitude are used to obtain the corresponding Source Nodes at the Particular Index. \n",
    "\n",
    "\n",
    "The source nodes for the three branches are then stored into three variables for each branch respectively.\n",
    "\n",
    "The Source nodes are obtained from the nodes.csv.\n",
    "\n",
    "\n",
    "#### b) Obtaining the destination nodes.\n",
    "\n",
    "The destination in this case is the customer location.\n",
    "\n",
    "The destination can be found out by using the Group069_missing_data.csv and nodes.csv.\n",
    "\n",
    "A For loop is initialized to traverse through the length of the  missing_data dataframe (Group069_missing_data.csv ).\n",
    "\n",
    "\n",
    "The indexes where the customer lattitude and longitude are equal to the node lattitude and longitude of the nodes dataframe \n",
    "are used to obtain the node numbers for each customer from the nodes.csv file.\n",
    "\n",
    "This operation is perfornmed branch wise. i.e. for Bk, TP and NS branches.\n",
    "\n",
    "All the nodes of the destinatioon are stored in  a list , which is used for the further operations.\n",
    "\n",
    "\n",
    "#### c.)  Computing the Dijkstra Path Lengths for each branch :\n",
    "\n",
    "The dijkstra path lengths are computed using the  `nx.dijkstra_path_length(G,source_node,destination_node)/1000` command.\n",
    "\n",
    "The  Function **nx.dijkstra_path_length()** returns the shortest path length from the Source to Target in a weighted Graph.\n",
    "\n",
    "This function takes 3 arguments : \n",
    "\n",
    "1.)  The Weighted Graph (G).\n",
    "\n",
    "2.)  The Source Node. i.e. the Branch Node Numbers.\n",
    "\n",
    "3.) The Destination Nodes .i.e. The customer node numbers.\n",
    "\n",
    "4.) The output is divided by 1000 as the distance is in KM's. ( Kilometers).\n",
    "\n",
    "5.) Each Distance is stored in a distance list at the corresponding index for each branch\n",
    "\n",
    "\n",
    "\n",
    "#### d) Imputing the distances : \n",
    "\n",
    "\n",
    "The distances are imputed using the missing index list.\n",
    "\n",
    "The missing index list is iterated and all the values in the distance list at the missing indexes are replaced\n",
    "with the NaN's in the missing dataframe.\n",
    "\n",
    "\n",
    "\n",
    " ### a.)  Obtaining the Source Nodes : "
   ]
  },
  {
   "cell_type": "code",
   "execution_count": 53,
   "metadata": {},
   "outputs": [],
   "source": [
    "G = nx.Graph() # Initializing an empty Graph with no nodes and edges.\n",
    "\n",
    "\n",
    "u = list(edges['u'])  # Taking the list of  U verticies from the edges dataframe\n",
    "v = list(edges['v']) # Taking the list of V verticies from the edges dataframe \n",
    "distance = list(edges['distance(m)']) # Taking the distance ( weights) as list from the edges dataframe\n",
    "\n",
    "\n",
    "\n",
    "\n",
    "node = list(nodes.node) # Taking the node numbers from the nodes dataframe\n",
    "nodes_lat = list(nodes.lat) # Taking the lattitude as a list from the nodes latitude dataframe\n",
    "nodes_lon = list(nodes.lon) # Taking the longitude as a list from the nodes dataframe.\n",
    " \n",
    "for i in range(len(u)): # Iterating through the length of the verticies inorder to add edges\n",
    "    G.add_edge(u[i],v[i],weight = distance[i]) # Adding the acquired edges. \n",
    "    \n",
    "NS_lat = branches[branches.branch_code == \"NS\"].branch_lat[0]  #Taking the latitude for the NS Branch from the branches dataframe\n",
    "NS_lon = branches[branches.branch_code == \"NS\"].branch_lon[0]  #Taking the longitude for the NS Branch from the branches dataframe\n",
    "TP_lat = branches[branches.branch_code == \"TP\"].branch_lat[1]  #Taking the latitude for the TP Branch from the branches dataframe\n",
    "TP_lon = branches[branches.branch_code == \"TP\"].branch_lon[1]  #Taking the longitude for the TP Branch from the branches dataframe\n",
    "BK_lat = branches[branches.branch_code == \"BK\"].branch_lat[2]  #Taking the latitude for the BK Branch from the branches dataframe\n",
    "BK_lon = branches[branches.branch_code == \"BK\"].branch_lon[2]  #Taking the longitude for the BK  Branch from the branches dataframe\n",
    "\n",
    "\n",
    "\n",
    "\n",
    "\n",
    "node_NS = 0 # Initializing a variable to store the Node Number for NS Branch .\n",
    "for i in range(len(nodes_lat)): # iterating through the nodes lattitude list to obtain the node number\n",
    "    # The node lattitude and longitude  for the index i are checked to see whether they are equal to the NS Latitude and Longitude\n",
    "    # The index where the Node Latitude and Longitude == NS Latitude and Longitude is used inorder to retrieve the corresponding node number\n",
    "    if NS_lat == nodes_lat[i] and NS_lon == nodes_lon[i]:\n",
    "        \n",
    "        node_NS = nodes['node'][i] # The corresponding node number is stored in the node_NS variable\n",
    "        \n",
    "        \n",
    "        \n",
    "node_TP = 0  #  Initializing a variable to store the Node Number for TP Branch .\n",
    "for i in range(len(nodes_lat)): # iterating through the nodes lattitude list to obtain the node number.\n",
    "        \n",
    "    # The node lattitude and longitude  for the index i are checked to see whether they are equal to the NS Latitude and Longitude\n",
    "    # The index where the Node Latitude and Longitude == NS Latitude and Longitude is used inorder to retrieve the corresponding node number\n",
    "\n",
    "    if TP_lat == nodes_lat[i] and TP_lon == nodes_lon[i]:\n",
    "        node_TP = nodes['node'][i] # The corresponding Node Number for the TP Branch is saved in the node_TP Variable.\n",
    "        \n",
    "        \n",
    "node_BK = 0 #  Initializing a variable to store the Node Number for BK Branch .\n",
    "\n",
    "\n",
    "for i in range(len(nodes_lat)):  # iterating through the nodes lattitude list to obtain the node number.\n",
    "    \n",
    "    # The node lattitude and longitude  for the index i are checked to see whether they are equal to the NS Latitude and Longitude\n",
    "    # The index where the Node Latitude and Longitude == NS Latitude and Longitude is used inorder to retrieve the corresponding node number\n",
    "\n",
    "    if BK_lat == nodes_lat[i] and BK_lon == nodes_lon[i]:\n",
    "        node_BK = nodes['node'][i] #The node number for BK Branch is stoed in the node_BK Variable.\n",
    "        \n",
    " \n"
   ]
  },
  {
   "cell_type": "markdown",
   "metadata": {},
   "source": [
    "#### b.)  Obtaining the Destination Nodes : "
   ]
  },
  {
   "cell_type": "code",
   "execution_count": 54,
   "metadata": {},
   "outputs": [],
   "source": [
    "main_list = [0]*len(missing_data) # Initializing a list to store the destination nodes.\n",
    "\n",
    "for i in range(len(missing_data)): # Iterating through the length of the missing data.\n",
    "    # The destination nodes are obtained by checking if the customer lattitude and longitude are equal to the node lattitude and longitude.\n",
    "    # The corresponding index where the customer lattitude and longitude are equal to node lattitude and longitude are selected and the corresponding node number at that index is retrieved\n",
    "    if missing_data.branch_code[i] == \"NS\": # Obtaining the node numbers for NS Branch\n",
    "        # If condition to check whether the node lat and lon are equal to customer lattiude and longitude\n",
    "        if missing_data.customer_lat[i] in nodes_lat and missing_data.customer_lon[i] in nodes_lon:\n",
    "            # Appending the node numbers to the mainlist at the same index position\n",
    "            main_list[i] = node[nodes_lat.index(missing_data.customer_lat[i])]\n",
    "    # An elif condition to check for the TP Branch.\n",
    "    elif missing_data.branch_code[i] == \"TP\":\n",
    "        # an if condition to check if the customer lat and lon are equal to the node lat and lon\n",
    "        if missing_data.customer_lat[i] in nodes_lat and missing_data.customer_lon[i] in nodes_lon:\n",
    "            # Adding the nodes to the main_list\n",
    "            main_list[i] = node[nodes_lat.index(missing_data.customer_lat[i])]\n",
    "            \n",
    "            \n",
    "    # Initializing an elif conditon for the BK Branch        \n",
    "    elif missing_data.branch_code[i] == \"BK\":\n",
    "        # Initializsing an if condition to check if the customer latitude and longitude are equal to the node lat and lon\n",
    "        if missing_data.customer_lat[i] in nodes_lat and missing_data.customer_lon[i] in nodes_lon:\n",
    "            # Appending the nodes to the main list at the same index position\n",
    "            main_list[i] = node[nodes_lat.index(missing_data.customer_lat[i])]\n",
    "            \n"
   ]
  },
  {
   "cell_type": "markdown",
   "metadata": {},
   "source": [
    "#### c.)  Computing the Dijkstra Path Lengths for each branch."
   ]
  },
  {
   "cell_type": "code",
   "execution_count": 55,
   "metadata": {},
   "outputs": [],
   "source": [
    "# initializing a main distance list inorder to store the distances\n",
    "main_distance_list = [0]*len(missing_data)\n",
    "# iterating through the length of the missing data\n",
    "for i in range(len(missing_data)):\n",
    "    # Computing distances for The BK branch\n",
    "    if missing_data.branch_code[i] == \"BK\":\n",
    "        # the nx.dijkstra_path_length() takes in 3 arguments, the Graph, Source , and Destination and returns  the shortest path length\n",
    "        # The distance is divided by 1000 inorder to change the units to Kilometers\n",
    "        main_distance_list[i] = nx.dijkstra_path_length(G,node_BK,main_list[i])/1000\n",
    "    \n",
    "    # Computing dijikstra path length for NS \n",
    "    elif missing_data.branch_code[i] == \"NS\":\n",
    "        #passing the Source, Destination for BK  Branch in the nx.dijkstrapath_length() \n",
    "        # Dividing the distances by 1000 inorder to change the units to KM\n",
    "        main_distance_list[i] = nx.dijkstra_path_length(G,node_NS,main_list[i])/1000\n",
    "    \n",
    "    elif missing_data.branch_code[i] == \"TP\": # Computing the shortest path for TP \n",
    "        # Passing the Source, destination and Graph in the dijkstra_path_length function.\n",
    "        # Dividing the obtained distance by 1000 inorder to convert to KM.\n",
    "        main_distance_list[i] = nx.dijkstra_path_length(G,node_TP,main_list[i])/1000\n",
    "    \n",
    "        \n"
   ]
  },
  {
   "cell_type": "markdown",
   "metadata": {},
   "source": [
    " #### d) Imputing the Distances : "
   ]
  },
  {
   "cell_type": "code",
   "execution_count": 56,
   "metadata": {},
   "outputs": [],
   "source": [
    "for i in distancemissingindexes: # Iterating through the missing index list\n",
    "    missing_data.loc[i,'distance_to_customer_KM']=main_distance_list[i] # replace the NaNs with the computed distances."
   ]
  },
  {
   "cell_type": "markdown",
   "metadata": {},
   "source": [
    "#### Testing the missing distances : "
   ]
  },
  {
   "cell_type": "code",
   "execution_count": 57,
   "metadata": {},
   "outputs": [
    {
     "data": {
      "text/plain": [
       "order_id                    0\n",
       "date                        0\n",
       "time                        0\n",
       "order_type                  0\n",
       "branch_code                 0\n",
       "order_items                 0\n",
       "order_price                 0\n",
       "customer_lat                0\n",
       "customer_lon                0\n",
       "customerHasloyalty?         0\n",
       "distance_to_customer_KM     0\n",
       "delivery_fee               50\n",
       "dtype: int64"
      ]
     },
     "execution_count": 57,
     "metadata": {},
     "output_type": "execute_result"
    }
   ],
   "source": [
    "missing_data.isna().sum()"
   ]
  },
  {
   "cell_type": "markdown",
   "metadata": {},
   "source": [
    "# Imputing Missing Delivery Fee : "
   ]
  },
  {
   "cell_type": "markdown",
   "metadata": {},
   "source": [
    "#### Adding an extra column to compute the Original Fee : \n",
    "\n",
    "The original Fee i.e. the Delivery Fee without discounts is added to the missing_data dataframe as the missing delivery Fee\n",
    "are imputing using Linear Regression  and the predicted delivery fee is without the customer loyalty criteria.\n",
    "\n",
    "\n",
    "All the records where the customer loyalty is 1 is multiplied with 2, because the customers with loyalty 1 get a Discounted\n",
    "Delivery Fee ( 50 % Discount) ."
   ]
  },
  {
   "cell_type": "code",
   "execution_count": 58,
   "metadata": {},
   "outputs": [],
   "source": [
    "for i in range(len(missing_data)):  \n",
    "    if missing_data.loc[i,'customerHasloyalty?'] == 1:\n",
    "        missing_data.loc[i,'original_fee'] = missing_data.loc[i,'delivery_fee'] * 2 \n",
    "    else:\n",
    "        missing_data.loc[i,'original_fee'] = missing_data.loc[i,'delivery_fee']\n",
    "        "
   ]
  },
  {
   "cell_type": "markdown",
   "metadata": {},
   "source": [
    "### Methodology : \n",
    "\n",
    "The missing delivery fee is computed using Linear Regression.\n",
    "\n",
    "The Linear Regression is used to model the relationship between the Scalar Response and one or more Explanatory  Variables.\n",
    "\n",
    "The Scalar Response in this case is the Delivery Fee.\n",
    "\n",
    "It is given that the delivery fee depends upon three factors, i.e. the Explanaotory Variables are : \n",
    "    \n",
    "1.) TimeofDay (A continuous variable (0,1,2)) where 0 represents Morning , 1 - represents Afternoon and 2 - Represents Evening\n",
    "\n",
    "2.) WeekendorWeekday (1 or 0 ) : 1 represents weekend and 0 represents weekday.\n",
    "    \n",
    "3.) Distance  between branch and customer (KM).\n",
    "\n",
    "\n",
    "There are two steps in the creation of Linear Model : \n",
    "    \n",
    "### 1.) Adding the Features : \n",
    "\n",
    "The weekendorweekday and the time of the day are stored in two lists.\n",
    "\n",
    "The weekend or weekday can be computed by using the **datetime.strptime(string,format).weekday()** function.\n",
    "\n",
    "The **strp.time()** function of the datetime library is used to convert the date into desirable format. \n",
    "\n",
    "The **weekday()** function is used to give the integer number for each day .\n",
    "\n",
    "Monday to Friday is represented by the numbers `[0,1,2,3,4]`\n",
    "\n",
    "The weekend (Saturday and Sunday ) is represented by `[5,6]`\n",
    "\n",
    "\n",
    "\n",
    "The time of the day is stored in a list and is computed using the order type. \n",
    "\n",
    "The ordertype **Breakfast** represents  **morning**.\n",
    "\n",
    "The order type **Lunch** represents **afternoon** .\n",
    "\n",
    "\n",
    "The order type **dinner** represents **Evening.**\n",
    "\n",
    "\n",
    "\n",
    "#### 2) Fitting a Linear Regression Model : \n",
    "\n",
    "The regression model is built based on the branches i.e. three models are fitted for the three branch codes.\n",
    "\n",
    "The **sci-kit learn** library is used to import the Linear Model.\n",
    "\n",
    "The model is trained on the data that is not null. i.e All the missing delivery fee records are excluded and the not null \n",
    "records are considered .\n",
    "\n",
    "\n",
    "The linear_model.LinearRegression() method is used to build a linear model.\n",
    "\n",
    "The model is fit with the scalar response (Y) as the  `original_fee` column from the dataframe. The Explanatory Variable (X) is the dataframe consisting of three columns i.e. the three factors on which the delivery fee depends linearly.\n",
    "\n",
    "The timeofday, weekendorweekday and the distance between branch and customer. \n",
    "\n",
    "The function used to fit the model is model.fit(x,y) \n",
    "\n",
    "\n",
    "The records with the  null values of the delivery fee are taken as the testing dataframe .\n",
    "\n",
    "The dataframe consits of three columns i.e. the three factors on which the delivery fee depends upon.\n",
    "\n",
    "The function used to predict the values are :\n",
    "\n",
    "model.predict(predicteddataframe).\n",
    "\n",
    "\n",
    "The accuracy for the model is computing using the function model.score(X,Y)*100 which gives the r2_value.\n",
    "\n",
    "\n"
   ]
  },
  {
   "cell_type": "markdown",
   "metadata": {},
   "source": [
    "# Adding the Factors : "
   ]
  },
  {
   "cell_type": "markdown",
   "metadata": {},
   "source": [
    "#### Creating Weekend or Weekday column : "
   ]
  },
  {
   "cell_type": "code",
   "execution_count": 59,
   "metadata": {},
   "outputs": [],
   "source": [
    "weekendorweekday = [0]*len(missing_data) # Initializing a list for weekendorweekday\n",
    "for i in range(len(missing_data)):    # iterating through the length of the missing dataframe\n",
    "    if(datetime.strptime(missing_data.date[i],'%Y-%m-%d').weekday())<=4: # if condition for weekday using weekday()  function\n",
    "        # the weekday() function is used to give the integer value for each day.\n",
    "        weekendorweekday[i] = 0 # setting 0 for weekday\n",
    "    elif(datetime.strptime(missing_data.date[i],'%Y-%m-%d').weekday())>=5: # initializing an elif condition for weekend\n",
    "        weekendorweekday[i] = 1 # setting 1 for weekend.\n",
    "   \n",
    "        \n",
    "   \n",
    "        \n",
    "        \n",
    "\n",
    "missing_data['weekendorweekday'] = weekendorweekday # adding the coloumn to the dataframe"
   ]
  },
  {
   "cell_type": "markdown",
   "metadata": {},
   "source": [
    "#### Creating the time of the day column  : "
   ]
  },
  {
   "cell_type": "code",
   "execution_count": 60,
   "metadata": {},
   "outputs": [],
   "source": [
    "timeofday = [0]*len(missing_data) # initializing a list for the timeofday function\n",
    "for i in range(len(missing_data)): # iterating through the length of the dataframe\n",
    "    if missing_data.loc[i,'order_type'] == 'Breakfast': # initializing an if condition for the morning\n",
    "        # Breakfast indicates morning as the timings match\n",
    "        timeofday[i] = 0 # setting timeofday 0 for morning \n",
    "    elif missing_data.loc[i,'order_type'] == 'Lunch': # initializing an elif condition for afternoon\n",
    "        # Lunch indicates afternoon\n",
    "        timeofday[i] = 1 # setting 1 for afternoon\n",
    "    elif missing_data.loc[i,'order_type'] == 'Dinner': # initilaizing an elif conditon for evening\n",
    "        # dinner indiciates evening\n",
    "        timeofday[i] = 2 # initializng the time of day as 2 for evening,.\n",
    "       \n",
    "        \n",
    "        \n",
    "        \n",
    "\n",
    "missing_data['timeofday'] = timeofday # adding the time of day coloumn"
   ]
  },
  {
   "cell_type": "code",
   "execution_count": 61,
   "metadata": {},
   "outputs": [
    {
     "data": {
      "text/plain": [
       "order_id                    0\n",
       "date                        0\n",
       "time                        0\n",
       "order_type                  0\n",
       "branch_code                 0\n",
       "order_items                 0\n",
       "order_price                 0\n",
       "customer_lat                0\n",
       "customer_lon                0\n",
       "customerHasloyalty?         0\n",
       "distance_to_customer_KM     0\n",
       "delivery_fee               50\n",
       "original_fee               50\n",
       "weekendorweekday            0\n",
       "timeofday                   0\n",
       "dtype: int64"
      ]
     },
     "execution_count": 61,
     "metadata": {},
     "output_type": "execute_result"
    }
   ],
   "source": [
    "missing_data.isna().sum() # checking the missing values for new coloumns "
   ]
  },
  {
   "cell_type": "markdown",
   "metadata": {},
   "source": [
    "### Imputing missing values for BK Branch : "
   ]
  },
  {
   "cell_type": "code",
   "execution_count": 62,
   "metadata": {},
   "outputs": [
    {
     "name": "stdout",
     "output_type": "stream",
     "text": [
      "accuracy for regression model for BK is 97.77719292421268\n"
     ]
    }
   ],
   "source": [
    "#Taking a dataframe with the delivery fee not equal to null \n",
    "deliveryfee_withoutnull = missing_data[missing_data['delivery_fee'].notnull() & (missing_data.branch_code == \"BK\")]\n",
    "# Taking a dataframe for the linear model with the three factors as coloumns for the explanatory variables\n",
    "linear_model_dataframe = deliveryfee_withoutnull[['weekendorweekday','timeofday','distance_to_customer_KM']]\n",
    "# Taking a dataframe for the predicted values with nulls.\n",
    "\n",
    "predicteddataframe = missing_data[missing_data['delivery_fee'].isnull() & (missing_data.branch_code == \"BK\")]\n",
    "# selecting the 3 factors for the predicted values\n",
    "model_predicteddataframe = predicteddataframe[['weekendorweekday','timeofday','distance_to_customer_KM']] \n",
    "\n",
    "# Storing the missing indexes in a lsit using the .index method and .to_list() method.\n",
    "missingbkindexes = missing_data[missing_data['delivery_fee'].isnull() &(missing_data.branch_code == \"BK\")].index.tolist()\n",
    "\n",
    "\n",
    "# Setting the explantory varibles (X)\n",
    "X = linear_model_dataframe\n",
    "# Setting the scalar Response\n",
    "Y = deliveryfee_withoutnull['original_fee']\n",
    "\n",
    "# Building a model for linear regression\n",
    "regression_BK = linear_model.LinearRegression()\n",
    "# fitting the explanatory variable and scalar response variable in-order to train the model\n",
    "regression_BK.fit(X, Y)\n",
    "# Predicting the new delivery fee i.e. the missing delviery fee with the test dataframe.\n",
    "new_deliveryfee_BK = list(regression_BK.predict(model_predicteddataframe))\n",
    "\n",
    "# Computing the accuracy of the model \n",
    "print('accuracy for regression model for BK is',regression_BK.score(X,Y)*100)"
   ]
  },
  {
   "cell_type": "code",
   "execution_count": 63,
   "metadata": {},
   "outputs": [],
   "source": [
    "# iterating through the len of missing indexes\n",
    "for i in range(len(missingbkindexes)):\n",
    "    # if condition to check whether the missing index records have customer loyalty 1 or not\n",
    "    if missing_data.loc[missingbkindexes[i],'customerHasloyalty?'] == 1:\n",
    "        # dividing the predicted fee by 2 for loyalty 1 inorder to give 50 percent discount\n",
    "        missing_data.loc[missingbkindexes[i],'delivery_fee'] = new_deliveryfee_BK[i]/2\n",
    "        \n",
    "    else:\n",
    "        # appending the original delivery fee for loyalty 0 \n",
    "        missing_data.loc[missingbkindexes[i],'delivery_fee'] = new_deliveryfee_BK[i]"
   ]
  },
  {
   "cell_type": "markdown",
   "metadata": {},
   "source": [
    "# Regression for NS :"
   ]
  },
  {
   "cell_type": "code",
   "execution_count": 64,
   "metadata": {},
   "outputs": [
    {
     "name": "stdout",
     "output_type": "stream",
     "text": [
      "Accuracy for NS is  95.86220489697233\n"
     ]
    }
   ],
   "source": [
    "#Taking a dataframe with the delivery fee not equal to null \n",
    "deliveryfee_withoutnull = missing_data[missing_data['delivery_fee'].notnull() & (missing_data.branch_code == \"NS\")]\n",
    "\n",
    "# Taking a dataframe for the linear model with the three factors as coloumns for the explanatory variables\n",
    "linear_model_dataframe = deliveryfee_withoutnull[['weekendorweekday','timeofday','distance_to_customer_KM']]\n",
    "\n",
    "# Taking a dataframe for the predicted values with nulls.\n",
    "\n",
    "predicteddataframe = missing_data[missing_data['delivery_fee'].isnull() & (missing_data.branch_code == \"NS\")]\n",
    "\n",
    "\n",
    "# selecting the 3 factors for the predicted values\n",
    "model_predicteddataframe = predicteddataframe[['weekendorweekday','timeofday','distance_to_customer_KM']] \n",
    "\n",
    "\n",
    "\n",
    "# Storing the missing indexes in a lsit using the .index method and .to_list() method.\n",
    "missingNSindexes = missing_data[missing_data['delivery_fee'].isnull() &(missing_data.branch_code == \"NS\")].index.tolist()\n",
    "\n",
    "\n",
    "# Setting the explantory varibles (X) and scalar response variables (Y)\n",
    "X = linear_model_dataframe\n",
    "Y = deliveryfee_withoutnull['original_fee']\n",
    "\n",
    "# Building a regression model \n",
    "regression_NS = linear_model.LinearRegression()\n",
    "\n",
    "# fitting the scalar and Explanoratory variables\n",
    "regression_NS.fit(X, Y)\n",
    "# Predicting the missing delivery fee values using the test dataframe\n",
    "new_deliveryfee_NS = list(regression_NS.predict(model_predicteddataframe))\n",
    "\n",
    "#Computing accuracy for the model\n",
    "print(\"Accuracy for NS is \",regression_NS.score(X,Y)*100)"
   ]
  },
  {
   "cell_type": "code",
   "execution_count": 65,
   "metadata": {},
   "outputs": [],
   "source": [
    "# iterating through the len of missing indexes\n",
    "for i in range(len(missingNSindexes)):\n",
    "    # if condition to check whether the missing index records have customer loyalty 1 or not\n",
    "    if missing_data.loc[missingNSindexes[i],'customerHasloyalty?'] == 1:\n",
    "        # dividing the predicted fee by 2 for loyalty 1 inorder to give 50 percent discount\n",
    "        missing_data.loc[missingNSindexes[i],'delivery_fee'] = new_deliveryfee_NS[i]/2\n",
    "    else:\n",
    "        # appending the original delivery fee for loyalty 0 \n",
    "        missing_data.loc[missingNSindexes[i],'delivery_fee'] = new_deliveryfee_NS[i]"
   ]
  },
  {
   "cell_type": "markdown",
   "metadata": {},
   "source": [
    "# Regression for TP:"
   ]
  },
  {
   "cell_type": "code",
   "execution_count": 66,
   "metadata": {},
   "outputs": [
    {
     "name": "stdout",
     "output_type": "stream",
     "text": [
      "Accuracy for TP is  95.97388388523925\n"
     ]
    }
   ],
   "source": [
    "#Taking a dataframe with the delivery fee not equal to null \n",
    "\n",
    "deliveryfee_withoutnull = missing_data[missing_data['delivery_fee'].notnull() & (missing_data.branch_code == \"TP\")]\n",
    "\n",
    "# Taking a dataframe for the linear model with the three factors as coloumns for the explanatory variables\n",
    "linear_model_dataframe = deliveryfee_withoutnull[['weekendorweekday','timeofday','distance_to_customer_KM']]\n",
    "\n",
    "# Taking a dataframe for the linear model for the predicted values wih nulls \n",
    "predicteddataframe = missing_data[missing_data['delivery_fee'].isnull() & (missing_data.branch_code == \"TP\")]\n",
    "\n",
    "# selecting the 3 factors for the predicted values\n",
    "model_predicteddataframe = predicteddataframe[['weekendorweekday','timeofday','distance_to_customer_KM']] \n",
    "\n",
    "# Storing the missing indexes in a lsit using the .index method and .to_list() method.\n",
    "missingTPindexes = missing_data[missing_data['delivery_fee'].isnull() &(missing_data.branch_code == \"TP\")].index.tolist()\n",
    "\n",
    "\n",
    "# Setting the explantory varibles (X) and scalar response variables (Y)\n",
    "X = linear_model_dataframe\n",
    "Y = deliveryfee_withoutnull['original_fee']\n",
    "\n",
    "# Building a linear regression model \n",
    "regression_TP = linear_model.LinearRegression()\n",
    "# fitting the scalar and Explanoratory variables (training the model )\n",
    "regression_TP.fit(X, Y)\n",
    "# predicting the data using the predict function (using test data.)\n",
    "new_deliveryfee_TP = list(regression_TP.predict(model_predicteddataframe))\n",
    "# computing the accuracy of the model.\n",
    "print(\"Accuracy for TP is \",regression_TP.score(X,Y)*100)"
   ]
  },
  {
   "cell_type": "code",
   "execution_count": 67,
   "metadata": {},
   "outputs": [],
   "source": [
    "# iterating through the len of missing indexes\n",
    "for i in range(len(missingTPindexes)):\n",
    "     # if condition to check whether the missing index records have customer loyalty 1 or not\n",
    "    if missing_data.loc[missingTPindexes[i],'customerHasloyalty?'] == 1:\n",
    "        # dividing the predicted fee by 2 for loyalty 1 inorder to give 50 percent discount\n",
    "        missing_data.loc[missingTPindexes[i],'delivery_fee'] = new_deliveryfee_TP[i]/2\n",
    "    else:\n",
    "         # appending the original delivery fee for loyalty 0 \n",
    "        missing_data.loc[missingTPindexes[i],'delivery_fee'] = new_deliveryfee_TP[i]"
   ]
  },
  {
   "cell_type": "markdown",
   "metadata": {},
   "source": [
    "### Dropping the Columns and Checking for the missing values "
   ]
  },
  {
   "cell_type": "code",
   "execution_count": 68,
   "metadata": {},
   "outputs": [],
   "source": [
    "missingdata2 = missing_data.drop(['original_fee','timeofday','weekendorweekday'],axis=True) # using .drop() method to drop the coloumns "
   ]
  },
  {
   "cell_type": "code",
   "execution_count": 69,
   "metadata": {},
   "outputs": [
    {
     "data": {
      "text/plain": [
       "order_id                   0\n",
       "date                       0\n",
       "time                       0\n",
       "order_type                 0\n",
       "branch_code                0\n",
       "order_items                0\n",
       "order_price                0\n",
       "customer_lat               0\n",
       "customer_lon               0\n",
       "customerHasloyalty?        0\n",
       "distance_to_customer_KM    0\n",
       "delivery_fee               0\n",
       "dtype: int64"
      ]
     },
     "execution_count": 69,
     "metadata": {},
     "output_type": "execute_result"
    }
   ],
   "source": [
    "missingdata2.isnull().sum() # checking for the missing values"
   ]
  },
  {
   "cell_type": "code",
   "execution_count": 70,
   "metadata": {},
   "outputs": [],
   "source": [
    "# Missing Data Done"
   ]
  },
  {
   "cell_type": "markdown",
   "metadata": {},
   "source": [
    "# h.)  Repairing the customerHasloyalty? column in dirty data using the models built above : "
   ]
  },
  {
   "cell_type": "markdown",
   "metadata": {},
   "source": [
    "# Add Features Function : \n",
    "\n",
    "\n",
    "The Features are added using a function addfeatures(dataframe):\n",
    "    This function takes in the dataframe as an input parameter and returns the dataframe with the new columns.\n",
    "    \n",
    "The weekendorweekday and the time of the day are stored in two lists.\n",
    "\n",
    "The weekend or weekday can be computed by using the datetime.strptime(string,format).weekday() function.\n",
    "\n",
    "The strp.time() function of the datetime library is used to convert the date into desirable format. \n",
    "\n",
    "The weekday() function is used to give the integer number for each day .\n",
    "\n",
    "Monday to Friday is represented by the numbers [0,1,2,3,4]\n",
    "\n",
    "The weekend (Saturday and Sunday ) is represented by [5,6]\n",
    "\n",
    "\n",
    "\n",
    "The time of the day is stored in a list and is computed using the order type. The ordertype Breakfast represents\n",
    "\n",
    "morning, the order type Lunch represents afternoon and the order type dinner represents Evening.\n",
    "\n"
   ]
  },
  {
   "cell_type": "code",
   "execution_count": 71,
   "metadata": {},
   "outputs": [],
   "source": [
    "def addfeatures(dataframe): \n",
    "    weekendorweekday = [0]*len(dataframe) # creating a list for weekend or weekday\n",
    "    timeofday = [0]*len(dataframe) # Creating a list for time of day\n",
    "    for i in range(len(dataframe)):     # iterating through the length of the dataframe\n",
    "        if(datetime.strptime(dataframe.date[i],'%Y-%m-%d').weekday())<=4: # Converting the date into desirable format and using weekday() function to sort wekday and weekend.\n",
    "            weekendorweekday[i] = 0 # Appending weekday (0) for values between 1 and 5\n",
    "        elif(datetime.strptime(dataframe.date[i],'%Y-%m-%d').weekday())>=5: # initializng an elif condtion for weekend\n",
    "            weekendorweekday[i] = 1    # appending 1 for weekend (for values greater than 5 and 6)\n",
    "            \n",
    "            \n",
    "    for i in range(len(dataframe)): # Iterating through the length of the dataframe\n",
    "    \n",
    "        if dataframe.loc[i,'order_type'] == 'Breakfast': # Checking order type == Breakfast for timeofday = 0\n",
    "            timeofday[i] = 0 # Appending the time of day as 0 for breakfast order type i.e. morning\n",
    "        elif dataframe.loc[i,'order_type'] == 'Lunch': # Checking the order type for afternoon\n",
    "            timeofday[i] = 1 # appending time of day as 1 for lunch order type i.e. afternoon\n",
    "        elif dataframe.loc[i,'order_type'] == 'Dinner': # checking order type for evening\n",
    "            timeofday[i] = 2 # appending time of day as 2 for dinner order type i.e. evening\n",
    "\n",
    "    dataframe['timeofday'] = timeofday # Addiing time of day column\n",
    "    dataframe['weekendorweekday'] = weekendorweekday # adding the weekendorweekday column.\n",
    "    return dataframe # returning the dataframe \n",
    "\n"
   ]
  },
  {
   "cell_type": "markdown",
   "metadata": {},
   "source": [
    "## Methodology : \n",
    "\n",
    "The linear regression model is used to predict the delivery Fee based on the three features.\n",
    "\n",
    "\n",
    "1.) TimeofDay (A continuous variable (0,1,2)) where 0 represents Morning , 1 - represents Afternoon and 2 - Represents Evening\n",
    "\n",
    "2.) WeekendorWeekday (1 or 0 ) : 1 represents weekend and 0 represents weekday.\n",
    "    \n",
    "3.) Distance  between branch and customer (KM).\n",
    "\n",
    "\n",
    "The linear models that are created above i.e. to predict the missing data values are used over here as the accuracy for the \n",
    "branches are around 96%.\n",
    "\n",
    "The **proportion** method is used to evaluate the customer loyalty. \n",
    "\n",
    "The proportion is obtianed by dividing the actual values with the predicted values. \n",
    "\n",
    "The obtained proportions are then analysed and a threshold is set for the customer loyalty 1 and 0 .\n",
    "\n",
    "Depending upon the threshold the customer loyalty  points are changed.\n"
   ]
  },
  {
   "cell_type": "markdown",
   "metadata": {},
   "source": [
    "### Step 1 : Adding the Features to the dirty data , data frame."
   ]
  },
  {
   "cell_type": "code",
   "execution_count": 72,
   "metadata": {},
   "outputs": [],
   "source": [
    "#adding the Features in dirty data  using addfeatures() functions.\n",
    "dirty_data_2 = addfeatures(dirty_data)\n"
   ]
  },
  {
   "cell_type": "markdown",
   "metadata": {},
   "source": [
    "## Repairing the customer Loyalty for BK branch : "
   ]
  },
  {
   "cell_type": "code",
   "execution_count": 73,
   "metadata": {},
   "outputs": [],
   "source": [
    "bk_dirtydata = dirty_data_2[dirty_data_2.branch_code == \"BK\"] # the Subdataframe with branch code  BK is selected.\n",
    "\n",
    "# The indexes for the BK order type are selected using the .index method and .to_list() method\n",
    "bkindexes = dirty_data_2[dirty_data_2.branch_code == \"BK\"].index.tolist()\n",
    "# The predicted dataframe is selected for perform the predictions with the three factors.\n",
    "model_predict_dataframe_bk = bk_dirtydata[['weekendorweekday','timeofday','distance_to_customer_KM']]\n",
    "\n",
    "# The predicted values are predicted using the predict() function and are stored in a list using the list() function.\n",
    "predicted_values_BK = list(regression_BK.predict(model_predict_dataframe_bk))\n",
    "\n",
    "# initializing a for loop to iterate through the BK indexes list for adding values to the new column.\n",
    "for i in range(len(bkindexes)):\n",
    "    # Selectig the rows  with the customerLoyalty 1\n",
    "    if dirty_data_2.loc[bkindexes[i],'customerHasloyalty?'] == 1:\n",
    "        # The predicted values for the customer loyalty 1 rows are divided by 2 inorder to apply the discount.\n",
    "        dirty_data_2.loc[bkindexes[i],'predictedvalues'] = predicted_values_BK[i]/2\n",
    "    else:\n",
    "        # the predicted values are appended directly for the customer loyalty 0 as there is no discount applicable \n",
    "        dirty_data_2.loc[bkindexes[i],'predictedvalues'] = predicted_values_BK[i]\n",
    "        "
   ]
  },
  {
   "cell_type": "markdown",
   "metadata": {},
   "source": [
    "# NS branch : "
   ]
  },
  {
   "cell_type": "code",
   "execution_count": 74,
   "metadata": {},
   "outputs": [],
   "source": [
    "\n",
    "\n",
    "NS_dirtydata = dirty_data_2[dirty_data_2.branch_code == \"NS\"] # the Subdataframe with branch code NS  is selected.\n",
    "\n",
    "# The indexes for the NS order type are selected using the .index method and .to_list() method\n",
    "NSindexes = dirty_data_2[dirty_data_2.branch_code == \"NS\"].index.tolist()\n",
    "\n",
    "# The predicted dataframe is selected for perform the predictions with the three factors.\n",
    "model_predict_dataframe_NS = NS_dirtydata[['weekendorweekday','timeofday','distance_to_customer_KM']]\n",
    "\n",
    "# The predicted values are predicted using the predict() function and are stored in a list using the list() function.\n",
    "predicted_values_NS = list(regression_NS.predict(model_predict_dataframe_NS))\n",
    "\n",
    "# initializing a for loop to iterate through the NS  indexes list to add values to new column \n",
    "for i in range(len(NSindexes)):\n",
    "     # Selectig the rows  with the customerLoyalty 1\n",
    "    if dirty_data_2.loc[NSindexes[i],'customerHasloyalty?'] == 1:\n",
    "        # The predicted values for the customer loyalty 1 rows are divided by 2 inorder to apply the discount.\n",
    "    \n",
    "        dirty_data_2.loc[NSindexes[i],'predictedvalues'] = predicted_values_NS[i]/2\n",
    "    else:\n",
    "        # The predicted values for the customer loyalty 0 rows are stored as it is.\n",
    "    \n",
    "        dirty_data_2.loc[NSindexes[i],'predictedvalues'] = predicted_values_NS[i]\n",
    "        "
   ]
  },
  {
   "cell_type": "markdown",
   "metadata": {},
   "source": [
    "# TP branch code : "
   ]
  },
  {
   "cell_type": "code",
   "execution_count": 75,
   "metadata": {},
   "outputs": [],
   "source": [
    "\n",
    "TP_dirtydata = dirty_data_2[dirty_data_2.branch_code == \"TP\"] # the Subdataframe with branch code TP is selected.\n",
    "\n",
    "\n",
    "# The indexes for the NS order type are selected using the .index method and .to_list() method\n",
    "TPindexes = dirty_data_2[dirty_data_2.branch_code == \"TP\"].index.tolist() \n",
    "\n",
    "# The predicted dataframe is selected for perform the predictions with the three factors.\n",
    "model_predict_dataframe_TP = TP_dirtydata[['weekendorweekday','timeofday','distance_to_customer_KM']]\n",
    "\n",
    "\n",
    "# The predicted values are predicted using the predict() function and are stored in a list using the list() function.\n",
    "predicted_values_TP = list(regression_TP.predict(model_predict_dataframe_TP))\n",
    "\n",
    "# initializing a for loop to iterate through the TP  indexes list inorder to add new values to predicted value column\n",
    "for i in range(len(TPindexes)):\n",
    "    \n",
    "     # Selectig the rows  with the customerLoyalty 1\n",
    "    if dirty_data_2.loc[TPindexes[i],'customerHasloyalty?'] == 1:\n",
    "         # The predicted values for the customer loyalty 1 rows are divided by 2 inorder to apply the discount.\n",
    "    \n",
    "        dirty_data_2.loc[TPindexes[i],'predictedvalues'] = predicted_values_TP[i]/2\n",
    "    else:\n",
    "         # The predicted values for the customer loyalty 0 rows are stored as it is . \n",
    "        dirty_data_2.loc[TPindexes[i],'predictedvalues'] = predicted_values_TP[i]\n",
    "        "
   ]
  },
  {
   "cell_type": "code",
   "execution_count": 76,
   "metadata": {},
   "outputs": [],
   "source": [
    "# Computing the proportions :"
   ]
  },
  {
   "cell_type": "code",
   "execution_count": 77,
   "metadata": {},
   "outputs": [],
   "source": [
    "dirty_data_2['Residuals'] = dirty_data_2['delivery_fee']/dirty_data_2['predictedvalues']"
   ]
  },
  {
   "cell_type": "markdown",
   "metadata": {},
   "source": [
    "# EDA on the Residuals of the predicted values : \n",
    "\n",
    "The exploratory data analysis is performed inorder to compute the upper and lower bound for the proportions \n",
    "for the customerHasLoyalty 1 and the customerHasLoyalty 0 .\n",
    "\n",
    "The two subdataframes are taken for customer loyalty score 1 and customer loyalty score 0 \n",
    "\n",
    "The mean of the residuals for the subdataframes are calculated by the dataframe.mean()\n",
    "\n",
    "The standard deviation of the residuals for the subdataframes are calculated by the dataframe.std() method.\n",
    "\n",
    "\n",
    "The threshold is set in between `mean + standard deviation` and `mean - standard deviation `."
   ]
  },
  {
   "cell_type": "code",
   "execution_count": 78,
   "metadata": {},
   "outputs": [
    {
     "name": "stdout",
     "output_type": "stream",
     "text": [
      "Mean of the residuals for customerHasLoyalty 1 is :  1.5998591332331873\n",
      "Standard Deviation of the residuals for customerHasLoyalty 1 is :  0.488390256839472\n",
      "Mean of the residuals for customerHasLoyalty 0 is :  0.9972951430890473\n",
      "Standard deviation of the residuals for customerHasLoyalty 0 is :  0.059044420504799015\n"
     ]
    }
   ],
   "source": [
    "residual_dataframe = dirty_data_2[['Residuals','customerHasloyalty?']] # Selecting residuals and customer loyalty sub dataframe\n",
    "subdataframe1 = residual_dataframe[residual_dataframe['customerHasloyalty?'] == 1] # Sub dataframe for loyalty 0\n",
    "subdataframe2 = residual_dataframe[residual_dataframe['customerHasloyalty?'] == 0] # Sub dataframe for loyalty 1\n",
    "# Computing mean and std dev for the sub dataframes \n",
    "print(\"Mean of the residuals for customerHasLoyalty 1 is : \",subdataframe1.Residuals.mean())\n",
    "print(\"Standard Deviation of the residuals for customerHasLoyalty 1 is : \",subdataframe1.Residuals.std())\n",
    "print(\"Mean of the residuals for customerHasLoyalty 0 is : \",subdataframe2.Residuals.mean())\n",
    "print(\"Standard deviation of the residuals for customerHasLoyalty 0 is : \",subdataframe2.Residuals.std())\n",
    "\n",
    "\n"
   ]
  },
  {
   "cell_type": "markdown",
   "metadata": {},
   "source": [
    " ### calculating the lowerlimit and upper limit for customer loyalty = 1 using mean and standard deviation"
   ]
  },
  {
   "cell_type": "code",
   "execution_count": 79,
   "metadata": {},
   "outputs": [],
   "source": [
    "\n",
    "# Computing the thresholds for loyalty 1  \n",
    "lowerlimit_loyalty1 = subdataframe1.Residuals.mean() -  subdataframe1.Residuals.std() # Mean - 1 Standard Deviation\n",
    "upperlimit_loyalty1 = subdataframe1.Residuals.mean() + subdataframe1.Residuals.std() # Mean + 1 Standard deviation\n"
   ]
  },
  {
   "cell_type": "markdown",
   "metadata": {},
   "source": [
    "### calculating the lowerlimit and upper limit for customer loyalty = 0 using mean and standard deviation"
   ]
  },
  {
   "cell_type": "code",
   "execution_count": 80,
   "metadata": {},
   "outputs": [],
   "source": [
    "# Computing the threshold for customer loyalty 0\n",
    "lowerlimit_loyalty0 = subdataframe2.Residuals.mean() -  subdataframe2.Residuals.std()\n",
    "upperlimit_loyalty0 = subdataframe2.Residuals.mean() + subdataframe2.Residuals.std()\n"
   ]
  },
  {
   "cell_type": "markdown",
   "metadata": {},
   "source": [
    "## Performing Exploratory Data Analysis wrt to the threshold values "
   ]
  },
  {
   "cell_type": "code",
   "execution_count": 81,
   "metadata": {},
   "outputs": [
    {
     "name": "stdout",
     "output_type": "stream",
     "text": [
      "The number of 1's in customer loyalty are : 55\n",
      " \n",
      "The number of 0's in customer loyalty are: 445\n",
      " \n",
      "The lower limit for customerloyalty 1 is : 1.1114688763937153\n",
      "The upper limit for customer loyalty 1 is : 2.0882493900726593\n",
      " \n",
      "The lower limit for customerloyalty 0 is : 0.9382507225842484\n",
      "The upper limit for customer loyalty 0 is : 1.0563395635938464\n",
      " \n",
      "The  number of data points for customer loyalty 0 between mean and 1 standard deviation of residuals are :  423\n",
      "Hence the loyalty points for loyaltiy score  0 are  between residuals and 0.936 and 1.05\n",
      " \n",
      "The number of datapoints between 1 standard deviation and mean for customer loyalty 1 is :  55\n",
      "Hence the loyalty points for loyaltiy score  1 are  between residuals and 1.1 and 2.08\n",
      " \n"
     ]
    }
   ],
   "source": [
    "print(\"The number of 1's in customer loyalty are :\",len(subdataframe1)) # Printing The  number of loyalty 1 customers\n",
    "print(\" \")\n",
    "print(\"The number of 0's in customer loyalty are:\",len(subdataframe2)) # Printing the number of loyalty 0 customers\n",
    "print(\" \")\n",
    "\n",
    "# Printing the thresholds for loyalty 1 \n",
    "print(\"The lower limit for customerloyalty 1 is :\",lowerlimit_loyalty1)\n",
    "print(\"The upper limit for customer loyalty 1 is :\",upperlimit_loyalty1)\n",
    "\n",
    "\n",
    "print(\" \")\n",
    "\n",
    "\n",
    "# Printing the Threshold for loyalty 0\n",
    "print(\"The lower limit for customerloyalty 0 is :\",lowerlimit_loyalty0)\n",
    "print(\"The upper limit for customer loyalty 0 is :\",upperlimit_loyalty0)\n",
    "\n",
    "print(\" \")\n",
    "\n",
    "\n",
    "# Analysing number of data points betweeen thresholds for loyalty 0 \n",
    "print(\"The  number of data points for customer loyalty 0 between mean and 1 standard deviation of residuals are : \", len(subdataframe2[(subdataframe2.Residuals >= lowerlimit_loyalty0) & (subdataframe2.Residuals <= upperlimit_loyalty0)] ))\n",
    "print(\"Hence the loyalty points for loyaltiy score  0 are  between residuals and 0.936 and 1.05\")\n",
    "print(\" \")\n",
    "\n",
    "# Analysing number of data points betweeen thresholds for loyalty 1\n",
    "print(\"The number of datapoints between 1 standard deviation and mean for customer loyalty 1 is : \",len(subdataframe1[(subdataframe1.Residuals >= lowerlimit_loyalty1) &(subdataframe1.Residuals)<= upperlimit_loyalty1]))\n",
    "print(\"Hence the loyalty points for loyaltiy score  1 are  between residuals and 1.1 and 2.08\")\n",
    "print(\" \")"
   ]
  },
  {
   "cell_type": "markdown",
   "metadata": {},
   "source": [
    "# Fixing the Customer Has Loyalty based on threshold values  : \n",
    "\n",
    "### Methodology : \n",
    "\n",
    "After Computing the threshold values, the loyalties are checked using the threshold values of the residuals.\n",
    "\n",
    "A for loop is initiaized to iterate through the length of the dataframe.\n",
    "\n",
    "The residuals of th loyalty 1 indexes are checked , i.e. whether they lie in between the thresholds  of the residuals of loyalty 0.\n",
    "If the residuals lie in between those thresholds , then the loyalty score is changed from 0 to 1.\n",
    "\n",
    "\n",
    "The residuals of th loyalty 0 indexes are checked , i.e. whether they lie in between the thresholds  of the residuals of loyalty 1.\n",
    "\n",
    "If the residuals lie in between those thresholds , then the loyalty score is changed from 1 to 0.\n"
   ]
  },
  {
   "cell_type": "code",
   "execution_count": 82,
   "metadata": {},
   "outputs": [],
   "source": [
    "\n",
    "faultycustomerloyalty = [] # initilaizing a list for faulty customer loyalty \n",
    "l1 = []  # initializing a sublist for loyalty 0 \n",
    "l2 = [] # initializing a sublist for loyalty 1 \n",
    "for i in range(len(dirty_data_2)): # iterating through the length of  dirty data\n",
    "    if dirty_data_2.loc[i,'customerHasloyalty?'] == 0: # initializng if condition for loyalty 0\n",
    "        \n",
    "        # Checking if the loyalty is 0 and the residuals are between the  thre thresholds of loyalty 1\n",
    "        if (dirty_data_2.loc[i,'Residuals'] > lowerlimit_loyalty1) & (dirty_data.loc[i,'Residuals'] < upperlimit_loyalty1):\n",
    "            l1.append(i) # appending into sublist l1\n",
    "            faultycustomerloyalty.append(i) # appending into faulty list\n",
    "            dirty_data_2.loc[i,'customerHasloyalty?'] = 1 # changing to loyalty 1\n",
    "            \n",
    "    elif dirty_data_2.loc[i,'customerHasloyalty?'] == 1: # initializing an elif condition for loyalty 1\n",
    "        # Checking if the loyalty 1 is in between the thresholds of the residuals of loyalty 0\n",
    "        if (dirty_data_2.loc[i,'Residuals'] >lowerlimit_loyalty0) & (dirty_data.loc[i,'Residuals'] < upperlimit_loyalty0):\n",
    "            l2.append(i) # appedning into l2 sublist\n",
    "            faultycustomerloyalty.append(i) # appending into faulty loyalty list\n",
    "            dirty_data_2.loc[i,'customerHasloyalty?'] = 0 # changing the loyalty value to 0 \n",
    "            \n",
    "        \n",
    "        "
   ]
  },
  {
   "cell_type": "code",
   "execution_count": 83,
   "metadata": {},
   "outputs": [
    {
     "name": "stdout",
     "output_type": "stream",
     "text": [
      " The  number of fault loyalty are :  22\n"
     ]
    }
   ],
   "source": [
    "print ( \" The  number of fault loyalty are : \",len(faultycustomerloyalty))"
   ]
  },
  {
   "cell_type": "code",
   "execution_count": 84,
   "metadata": {},
   "outputs": [
    {
     "name": "stdout",
     "output_type": "stream",
     "text": [
      " The number of faulty loyalty for loyalty 0 are: 5\n",
      " The number of faulty loyalty for loyalty 1 are: 17\n"
     ]
    }
   ],
   "source": [
    "print(\" The number of faulty loyalty for loyalty 0 are:\",len(l1))\n",
    "print(\" The number of faulty loyalty for loyalty 1 are:\",len(l2))\n"
   ]
  },
  {
   "cell_type": "markdown",
   "metadata": {},
   "source": [
    "# Calculating total number of errors"
   ]
  },
  {
   "cell_type": "code",
   "execution_count": 85,
   "metadata": {},
   "outputs": [
    {
     "name": "stdout",
     "output_type": "stream",
     "text": [
      "The total number of errors in dirty data DataFrame is : 326\n"
     ]
    }
   ],
   "source": [
    "print('The total number of errors in dirty data DataFrame is :',len(defective_dates)+len(order_list_fault)+len(branch_fault)+len(branch_code_faulty)+len(faulty_order_items)+len(defectiveorderprice)+len(lat_lon_list)+len(defectivediji)+len(faultycustomerloyalty))"
   ]
  },
  {
   "cell_type": "markdown",
   "metadata": {},
   "source": [
    "# Outlier Data :"
   ]
  },
  {
   "cell_type": "code",
   "execution_count": 86,
   "metadata": {},
   "outputs": [],
   "source": [
    "outliers = pd.read_csv('Group069_outlier_data.csv')  "
   ]
  },
  {
   "cell_type": "markdown",
   "metadata": {},
   "source": [
    "### Boxplot for the Entire Data Frame : \n",
    "\n",
    "\n",
    "The boxplot is plotted using the dataframe.boxplot() function. \n",
    "\n",
    "The plt.xlabel() is used to add labels to the x axis\n",
    "\n",
    "The plt.ylabel() is used to add labels to the y axis.\n",
    "\n",
    "The plt.show() function is used to show the graph\n",
    "\n",
    "The figsize represents the size of the figure."
   ]
  },
  {
   "cell_type": "code",
   "execution_count": 87,
   "metadata": {},
   "outputs": [
    {
     "data": {
      "image/png": "[encoded data removed]",
      "text/plain": [
       "<Figure size 1080x360 with 1 Axes>"
      ]
     },
     "metadata": {
      "needs_background": "light"
     },
     "output_type": "display_data"
    }
   ],
   "source": [
    "outliers.boxplot(figsize=(15,5)) # function to plot boxlot\n",
    "plt.xlabel('columns') # xlabel for x axis\n",
    "plt.ylabel('Values') # ylabel for y axis\n",
    "plt.title('Boxplot for Outlier Data') # title for the boxplot\n",
    "plt.show() # show() function to show the plot "
   ]
  },
  {
   "cell_type": "markdown",
   "metadata": {},
   "source": [
    "There are outliers in all the columns except customer latitude "
   ]
  },
  {
   "cell_type": "code",
   "execution_count": 88,
   "metadata": {},
   "outputs": [
    {
     "data": {
      "image/png": "[encoded data removed]",
      "text/plain": [
       "<Figure size 720x360 with 1 Axes>"
      ]
     },
     "metadata": {
      "needs_background": "light"
     },
     "output_type": "display_data"
    }
   ],
   "source": [
    "outliers.boxplot('delivery_fee',by='branch_code',figsize=(10,5)) # Function to plot boxplot\n",
    "plt.xlabel('Branches') # Setting the x label\n",
    "\n",
    "plt.ylabel('values') # setting the y label\n",
    "\n",
    "plt.title('Boxplot for Delivery Fee wrt Branch Code')  # setting the title \n",
    "\n",
    "plt.show() # function to show the plot "
   ]
  },
  {
   "cell_type": "markdown",
   "metadata": {},
   "source": [
    "It can be seen from the graph that there a lot of outliers for BK under the lower fence , where as there are very few\n",
    "outliers for BK over the upper fence\n",
    "\n",
    "\n",
    "The outliers for NS are comparitvely equal below the lower fence and above the upper fence. There are more outliers for TP \n",
    "below the lower fence rather than above the upper fence.\n",
    "\n",
    "Hence the outliers in all three branches are concentrated below the lower fence rather than above the upper fence."
   ]
  },
  {
   "cell_type": "markdown",
   "metadata": {},
   "source": [
    "# Removing outliers using residuals : "
   ]
  },
  {
   "cell_type": "markdown",
   "metadata": {},
   "source": [
    "### Methodology : \n",
    "\n",
    "The outliers are data points that differ significantly from the other points. \n",
    "\n",
    "The outliers are computed using the residual method, as the residuals are more accurate. \n",
    "\n",
    "The Linear Regression  model used for imputing the missing values, is used in rectifying the outliers as well .\n",
    "\n",
    "The Linear Regression is used to model the relationship between the Scalar Response and one or more Explanatory  Variables.\n",
    "\n",
    "The Scalar Response in this case is the Delivery Fee.\n",
    "\n",
    "It is given that the delivery fee depends upon three factors, i.e. the Explanaotory Variables are : \n",
    "    \n",
    "1.) TimeofDay (A continuous variable (0,1,2)) where 0 represents Morning , 1 - represents Afternoon and 2 - Represents Evening\n",
    "\n",
    "2.) WeekendorWeekday (1 or 0 ) : 1 represents weekend and 0 represents weekday.\n",
    "    \n",
    "3.) Distance  between branch and customer (KM).\n",
    "\n",
    "\n",
    "\n",
    "\n",
    "## Methodology : \n",
    "\n",
    "The methodology Consits of the following Steps : \n",
    "    \n",
    "1.) Adding Features :  The Features are added using the addfeatures function, this function takes input as the dataframe and returns \n",
    "    a new dataframe with 2 extra columns i.e. timeofday and weekend or weekday.\n",
    "    \n",
    "2.) Adding Original Fee Column to Customers with loyalty  score 1 : the customers with loyalty 1 .  For the indexes with the customers who have\n",
    "    loyalty 1 , the corresponding delivery fee is multplied by 2 ( removing index) and the for the customers with loyalty 0\n",
    "    the corresponding delivery fee is kept as it is.\n",
    "    \n",
    "    \n",
    "3.) Function to retrieve outlier indexes : A function to retrieve outlier indexes is created, the function takes input parameters as the dataframe and the column and give the list of indexes with the outliers.\n",
    "The outliers are caluclated using the lower fence and upper fence using quartiles i.e. \n",
    "\n",
    "The upper Fence is : q3 + 1.5*iqr\n",
    "\n",
    "The lower fence is : q1 - 1.5*iqr\n",
    "    \n",
    "    \n",
    "\n",
    "4.)  Removing outliers by Branch :  The data frames are seggregated by branch code and the sub dataframes are created. The model used to predict the \n",
    "    delivery fee is the lienar model used in missing values. \n",
    "    \n",
    "    The model is trained using the not null rows of the missing value data frame and the training data set is the outlier \n",
    "    dataframe . \n",
    "    \n",
    "    The missing values model is used as the average accuracy for all three branches is around 96%.\n",
    "    \n",
    "    The  predicted values i.e the delivery fees are the original delivery fees ( without discount). Hence they\n",
    "    are converted into discounted delivery fees , by dividing by 2 for customers who have 1 as the loyalty point.\n",
    "    \n",
    "    \n",
    "    \n",
    "    The residuals are caluclated by subtracting the actual delivery fee by the predicted  delivery fee\n",
    "     \n",
    "    The outlierindex() function defined in step  3 is used to retrieve the indexes of the outlier rows in each sub dataframe\n",
    "    \n",
    "    \n",
    "    \n",
    "5)  The collected outlier rows are then dropped.\n",
    "\n",
    "6.) Exploratory Data Analysis i.e. plotting of Boxplots is also performed inorder to analyse the outliers.\n",
    "\n"
   ]
  },
  {
   "cell_type": "markdown",
   "metadata": {},
   "source": [
    "#### Step 1 : Adding  Features :\n",
    "\n",
    "A function to add features, returns a dataframe with the features : "
   ]
  },
  {
   "cell_type": "code",
   "execution_count": 89,
   "metadata": {},
   "outputs": [],
   "source": [
    "outliers1 = addfeatures(outliers) # adding features using the add features() function"
   ]
  },
  {
   "cell_type": "markdown",
   "metadata": {},
   "source": [
    "#### Step 2 :  Adding Original Fee column for customers who have 1 loyalty : "
   ]
  },
  {
   "cell_type": "code",
   "execution_count": 90,
   "metadata": {},
   "outputs": [],
   "source": [
    "for i in range(len(outliers1)): # iterating through the length of the outliers\n",
    "    if outliers1.loc[i,'customerHasloyalty?'] == 1: # checking if the loyalty is 1 or not\n",
    "        # multiplying into 2 for the discounted fee if the loyalty is 1\n",
    "        outliers1.loc[i,'orignial_fee'] = outliers1.loc[i,'delivery_fee']*2\n",
    "    else:\n",
    "        # appending the delivery fee as it is for loyalty 0 \n",
    "        outliers1.loc[i,'orignial_fee'] = outliers1.loc[i,'delivery_fee']"
   ]
  },
  {
   "cell_type": "markdown",
   "metadata": {},
   "source": [
    "#### Step 3:  Function to retreive  outlier indexes : "
   ]
  },
  {
   "cell_type": "code",
   "execution_count": 91,
   "metadata": {},
   "outputs": [],
   "source": [
    "def outlierindex(df, col_name): # 2 arguments, input dataframe and column name \n",
    "    q1 = df[col_name].quantile(0.25) # using quantile function to compute the first quartile (25%)\n",
    "    q3 = df[col_name].quantile(0.75)# using quantile function to compute the third quartile (75%)\n",
    "    iqr = q3-q1 #Interquartile range\n",
    "    fence_low  = q1-1.5*iqr # Computing the lower fence\n",
    "    fence_high = q3+1.5*iqr # Computing the higher fence\n",
    "    # The indexes below the lower fence and above the upper fence i.e. the outliers are retrieved and stored in a list\n",
    "    # The . index method and df.to_list() function is used to convert to a list.\n",
    "    index = df[(df.residuals < fence_low) | (df.residuals > fence_high) ].index.tolist() \n",
    "    \n",
    "    \n",
    "    return index"
   ]
  },
  {
   "cell_type": "code",
   "execution_count": 92,
   "metadata": {},
   "outputs": [],
   "source": [
    "residual_list = [0]*len(outliers1)"
   ]
  },
  {
   "cell_type": "markdown",
   "metadata": {},
   "source": [
    "## Removing outliers for BK "
   ]
  },
  {
   "cell_type": "code",
   "execution_count": 93,
   "metadata": {},
   "outputs": [
    {
     "name": "stdout",
     "output_type": "stream",
     "text": [
      "Upper Fence for Bk is :  0.9568608473726665\n",
      "Lowerfence for Bk is :  -0.8023619571860263\n",
      "iqr for bk is  0.4398057011396732\n"
     ]
    }
   ],
   "source": [
    "\n",
    "\n",
    "# Creating a sub dataframe  for the order type \n",
    "bk_outlier=outliers1.copy()\n",
    "bk_outlier = bk_outlier[bk_outlier.branch_code == \"BK\"]\n",
    "# collecting the indexes of BK \n",
    "bkindexes = bk_outlier[bk_outlier.branch_code == \"BK\"].index.tolist()\n",
    "\n",
    "#  Creating a dataframe to predict the outlier values for delivery fee\n",
    "model_predict_dataframe_bk = bk_outlier[['weekendorweekday','timeofday','distance_to_customer_KM']]\n",
    "\n",
    "# predicting the values , using the linear regression moodel defined for BK data \n",
    "# The explanotory variables are : timeofday, weekendorweekday and distance\n",
    "# The Scalar response variable is the delivery fee \n",
    "predicted_values_BK = list(regression_BK.predict(model_predict_dataframe_bk))\n",
    "\n",
    "\n",
    "\n",
    "### Applying Discount on customer loyalty\n",
    "## Dividing predicted values by 2 inorder to append into the dataframe for customer loyalty 1 : \n",
    "\n",
    "final_predicted_bk = [] # list for final predicted values\n",
    "for i in range(len(bkindexes)):\n",
    "    if bk_outlier.loc[bkindexes[i],'customerHasloyalty?'] == 1:\n",
    "        final_predicted_bk.append(predicted_values_BK[i]/2) # dividing predicted values / 2 for customer loyalty 1 \n",
    "    else:\n",
    "        # Appending the final values as it is for customer loyalty 0 ( No discount)\n",
    "        final_predicted_bk.append(predicted_values_BK[i])\n",
    "        \n",
    "\n",
    "    \n",
    "# adding a new column for the predicted delivery fee\n",
    "bk_outlier['predicted_delivery_fee'] = final_predicted_bk\n",
    "\n",
    "# Calculating the Residuals \n",
    "# the residuals are calculated by the Actual Value - \n",
    "bk_outlier['residuals'] = bk_outlier['delivery_fee'] - bk_outlier['predicted_delivery_fee']\n",
    "bk_residuals = list (bk_outlier['residuals'])\n",
    "\n",
    "# Calculating the quartiles  using the quantile function()\n",
    "# the first 25% percent values reprecent the First Quartile\n",
    "# the first 75% percent values reprecent the Third Quartile\n",
    " \n",
    "q1 = bk_outlier['residuals'].quantile(0.25)\n",
    "q3 = bk_outlier['residuals'].quantile(0.75)\n",
    "\n",
    "# Computing the Inter Quartile Range\n",
    "iqr = q3 - q1\n",
    "\n",
    "# Computing the  lower fence and upper fence using the Quartiles and inter Quartile Range\n",
    "fence_low  = q1-1.5*iqr\n",
    "fence_high = q3+1.5*iqr\n",
    "\n",
    "\n",
    "# Printing the upper and lower fences \n",
    "print(\"Upper Fence for Bk is : \",fence_high)\n",
    "print(\"Lowerfence for Bk is : \",fence_low)\n",
    "print(\"iqr for bk is \",iqr)"
   ]
  },
  {
   "cell_type": "markdown",
   "metadata": {},
   "source": [
    "## Exploratory Data Analysis for BK Branch : \n",
    "\n",
    "\n",
    "###### a) Boxplot for BK Branch "
   ]
  },
  {
   "cell_type": "code",
   "execution_count": 94,
   "metadata": {},
   "outputs": [
    {
     "data": {
      "image/png": "[encoded data removed]",
      "text/plain": [
       "<Figure size 1440x576 with 1 Axes>"
      ]
     },
     "metadata": {
      "needs_background": "light"
     },
     "output_type": "display_data"
    }
   ],
   "source": [
    "bk_outlier.boxplot('residuals',figsize=(20,8)) # Function to plot the boxplot\n",
    "plt.title('Outliers for BK Branch') # plt.title() to set the title\n",
    "plt.xlabel('Residuals') # Function to Set the x axis label\n",
    "plt.ylabel('Values') # Function to set the y axis label\n",
    "plt.show() # function to show the plot "
   ]
  },
  {
   "cell_type": "markdown",
   "metadata": {},
   "source": [
    "It can be conluded  from the boxplot that the number of outliers below the lower fence are more denser as opposed to \n",
    "the number of outliers above the higher fence."
   ]
  },
  {
   "cell_type": "markdown",
   "metadata": {},
   "source": [
    "#### b) Scatter plot for BK Branch "
   ]
  },
  {
   "cell_type": "code",
   "execution_count": 95,
   "metadata": {},
   "outputs": [
    {
     "data": {
      "image/png": "[encoded data removed]",
      "text/plain": [
       "<Figure size 1080x360 with 1 Axes>"
      ]
     },
     "metadata": {
      "needs_background": "light"
     },
     "output_type": "display_data"
    }
   ],
   "source": [
    "plt.figure(figsize=(15,5))\n",
    "plt.scatter(bk_outlier.delivery_fee,bk_outlier.predicted_delivery_fee)\n",
    "plt.grid()\n",
    "plt.xlabel(\"Actual Delivery Fee \")\n",
    "plt.ylabel(\"Predicted Delivery Fee \")\n",
    "\n",
    "plt.title(\"Actual Delivery Fee vs Predcited Delivery Fee\")\n",
    "plt.show()"
   ]
  },
  {
   "cell_type": "markdown",
   "metadata": {},
   "source": [
    "It can be concluded from the scatter plot that relationship between the actual values and predicted values is linear.\n",
    "That is it can be concluded that the model is a good fit as the graph looks fairly linear. "
   ]
  },
  {
   "cell_type": "markdown",
   "metadata": {},
   "source": [
    "#### Retriving outlier indexes for BK "
   ]
  },
  {
   "cell_type": "code",
   "execution_count": 96,
   "metadata": {},
   "outputs": [
    {
     "name": "stdout",
     "output_type": "stream",
     "text": [
      "total outliers for branch code  BK are :  14\n"
     ]
    }
   ],
   "source": [
    "bk_outlier_index = outlierindex(bk_outlier,'residuals') # Collecting the outlier indexes using outlierindex() function\n",
    "print(\"total outliers for branch code  BK are : \",len(bk_outlier_index)) # printing the outlier index\n",
    "\n"
   ]
  },
  {
   "cell_type": "markdown",
   "metadata": {},
   "source": [
    "#### Adding the values of the residuals to a list inorder to create the total residual list "
   ]
  },
  {
   "cell_type": "code",
   "execution_count": 97,
   "metadata": {},
   "outputs": [],
   "source": [
    "for i in range(len(bkindexes)): # iterating through the indexes of BK\n",
    "    residual_list[bkindexes[i]] = bk_residuals[i] # adding the values at the BK index positions "
   ]
  },
  {
   "cell_type": "markdown",
   "metadata": {},
   "source": [
    "# Removing outliers for NS : "
   ]
  },
  {
   "cell_type": "code",
   "execution_count": 98,
   "metadata": {},
   "outputs": [
    {
     "name": "stdout",
     "output_type": "stream",
     "text": [
      "Upper Fence for NS is :  0.832091342386577\n",
      "Lowerfence for NS is :  -0.932124609494756\n",
      "iqr for NS is :  0.44105398797033324\n"
     ]
    }
   ],
   "source": [
    "\n",
    "\n",
    "# Creating a sub dataframe  for the order type\n",
    "NS_outlier= outliers1.copy()\n",
    "NS_outlier = NS_outlier[NS_outlier.branch_code == \"NS\"]\n",
    "\n",
    "# collecting the indexes of BK \n",
    "nsindexes = NS_outlier[NS_outlier.branch_code == \"NS\"].index.tolist()\n",
    "\n",
    "#  Creating a dataframe to predict the outlier values for delivery fee\n",
    "model_predict_dataframe_ns = NS_outlier[['weekendorweekday','timeofday','distance_to_customer_KM']]\n",
    "\n",
    "\n",
    "\n",
    "\n",
    "# predicting the values , using the linear regression moodel defined for BK data \n",
    "# The explanotory variables are : timeofday, weekendorweekday and distance\n",
    "# The Scalar response variable is the delivery fee \n",
    "predicted_values_NS = list(regression_NS.predict(model_predict_dataframe_ns))\n",
    "\n",
    "\n",
    "\n",
    "### Applying Discount on customer loyalty\n",
    "## Dividing predicted values by 2 inorder to append into the dataframe for customer loyalty 1 : \n",
    "\n",
    "\n",
    "final_predicted_ns = []    # list for final predicted values\n",
    "for i in range(len(nsindexes)): # iterating through the list of NS indexes \n",
    "    if NS_outlier.loc[nsindexes[i],'customerHasloyalty?'] == 1: # Checking for Customer Loyalty == 1\n",
    "        final_predicted_ns.append(predicted_values_NS[i]/2)# dividing predicted values / 2 for customer loyalty 1 \n",
    "    else:\n",
    "         # Appending the final values as it is for customer loyalty 0 ( No discount)\n",
    "        final_predicted_ns.append(predicted_values_NS[i])\n",
    "        \n",
    "\n",
    "\n",
    "\n",
    "\n",
    "\n",
    "# adding a new coloumn for the predicted values\n",
    "NS_outlier['predicted_delivery_fee'] = final_predicted_ns\n",
    "\n",
    "\n",
    "#calculating the residuals ( actual - predicted )\n",
    "NS_outlier['residuals'] = NS_outlier['delivery_fee'] - NS_outlier['predicted_delivery_fee']\n",
    "\n",
    "\n",
    "\n",
    "\n",
    "\n",
    "# Computing the first quartile using the quantile function\n",
    "# the quantile (0.25) returns the 25th percentile value\n",
    "q1 = NS_outlier['residuals'].quantile(0.25)\n",
    "# Computing the third qurtile  using the quantile function\n",
    "# The quantile(0.75) returns the 75th percentile value\n",
    "q3 = NS_outlier['residuals'].quantile(0.75)\n",
    "# Computing the interquartile range\n",
    "iqr = q3 - q1 # IQR = quartile3 - quartile 1\n",
    "\n",
    "\n",
    "# Calculating the lower fence and upper fence\n",
    "fence_low  = q1-1.5*iqr # formula for lower fence\n",
    "fence_high = q3+1.5*iqr # formula for Lower Fence \n",
    "\n",
    "# printing the upper and lower Fence .\n",
    "print(\"Upper Fence for NS is : \",fence_high) # printing the upper fence\n",
    "print(\"Lowerfence for NS is : \",fence_low) # printinng the lower fence\n",
    "print(\"iqr for NS is : \",iqr) # printing the inter quartile range "
   ]
  },
  {
   "cell_type": "code",
   "execution_count": 99,
   "metadata": {},
   "outputs": [
    {
     "name": "stdout",
     "output_type": "stream",
     "text": [
      "The number of outliers for NS Branch  10\n"
     ]
    }
   ],
   "source": [
    "# Retriving the index of the outliers using the outlierindex() function\n",
    "\n",
    "ns_outlier_index = outlierindex(NS_outlier,'residuals')\n",
    "print(\"The number of outliers for NS Branch \" ,len(ns_outlier_index)) # Printing the number of outliers for NS\n"
   ]
  },
  {
   "cell_type": "markdown",
   "metadata": {},
   "source": [
    "# Adding the Residuals to residual list  : "
   ]
  },
  {
   "cell_type": "code",
   "execution_count": 100,
   "metadata": {},
   "outputs": [],
   "source": [
    "# Iterating through the faulty indexes of NS Branch to  add the residuals in the corresponding index of the NS Branch\n",
    "NS_residuals =  list(NS_outlier.residuals)\n",
    "for i in range(len(nsindexes)): \n",
    "    residual_list[nsindexes[i]] = NS_residuals[i]  # adding the residuals into the desired positions "
   ]
  },
  {
   "cell_type": "markdown",
   "metadata": {},
   "source": [
    "## EDA for NS Branch Code :  "
   ]
  },
  {
   "cell_type": "markdown",
   "metadata": {},
   "source": [
    "## Box plot for NS :"
   ]
  },
  {
   "cell_type": "code",
   "execution_count": 101,
   "metadata": {},
   "outputs": [
    {
     "data": {
      "image/png": "[encoded data removed]",
      "text/plain": [
       "<Figure size 1440x576 with 1 Axes>"
      ]
     },
     "metadata": {
      "needs_background": "light"
     },
     "output_type": "display_data"
    }
   ],
   "source": [
    "NS_outlier.boxplot('residuals',figsize=(20,8)) # Function to plot the boxplot\n",
    "plt.title('Outliers for ns Branch') # plt.title() to set the title\n",
    "plt.xlabel('Residuals ') # Function to Set the x axis label\n",
    "plt.ylabel('Values') # Function to set the y axis label\n",
    "plt.show() # function to show the plot "
   ]
  },
  {
   "cell_type": "markdown",
   "metadata": {},
   "source": [
    "It can be concluded that the number of outliers below the lower fence are more denser as opposed to the number of outliers\n",
    "above the upper fence "
   ]
  },
  {
   "cell_type": "markdown",
   "metadata": {},
   "source": [
    "# Scatter plot for NS : "
   ]
  },
  {
   "cell_type": "code",
   "execution_count": 102,
   "metadata": {},
   "outputs": [
    {
     "data": {
      "image/png": "[encoded data removed]",
      "text/plain": [
       "<Figure size 1080x360 with 1 Axes>"
      ]
     },
     "metadata": {
      "needs_background": "light"
     },
     "output_type": "display_data"
    }
   ],
   "source": [
    "plt.figure(figsize=(15,5))\n",
    "plt.scatter(NS_outlier.delivery_fee,NS_outlier.predicted_delivery_fee)\n",
    "plt.grid()\n",
    "plt.xlabel(\"Actual Delivery Fee \")\n",
    "plt.ylabel(\"Predicted Delivery Fee \")\n",
    "\n",
    "plt.title(\"Actual Delivery Fee vs Predcited Delivery Fee For NS Branch \")\n",
    "\n",
    "\n",
    "plt.show()"
   ]
  },
  {
   "cell_type": "markdown",
   "metadata": {},
   "source": [
    "It can be interpretted from the graph that the relationship between the actual delivery fee and the predicted delivery is \n",
    "fairly linear.\n",
    "\n",
    "\n",
    "Hence, it can be conlcuded that the model is a good fit . "
   ]
  },
  {
   "cell_type": "markdown",
   "metadata": {},
   "source": [
    "# Removing outliers for TP : "
   ]
  },
  {
   "cell_type": "code",
   "execution_count": 103,
   "metadata": {},
   "outputs": [
    {
     "name": "stdout",
     "output_type": "stream",
     "text": [
      "Upper Fence for TP is :  0.8472113429558352\n",
      "Lowerfence for TP is :  -0.8487388487555563\n",
      "iqr for TP is : 0.4239875479278479\n"
     ]
    }
   ],
   "source": [
    "# Creating a sub dataframe  for the order type \n",
    "TP_outlier = outliers1.copy()\n",
    "TP_outlier = TP_outlier[TP_outlier.branch_code == \"TP\"]\n",
    "\n",
    "# The indexes of the TP branch code are retrieved using the .index method, and they are converted into a list using the .to_list()\n",
    "#method\n",
    "tpindexes = outliers1[outliers1.branch_code == \"TP\"].index.to_list()\n",
    "\n",
    "# Selecting a dataframe with the desired factors , inorder to predict values\n",
    "model_predict_dataframe_tp = TP_outlier[['weekendorweekday','timeofday','distance_to_customer_KM']]\n",
    "\n",
    "# Predicted Values are predicted using the .predict() function\n",
    "predicted_values_TP = list(regression_TP.predict(model_predict_dataframe_tp))\n",
    "\n",
    "\n",
    "#  list for the final predicted values\n",
    "final_predicted_tp = []\n",
    "for i in range(len(tpindexes)):  # iterating through the length of the indexes for TP  Branchcode\n",
    "    if outliers1.loc[tpindexes[i],'customerHasloyalty?'] == 1: # if condition for custoer loyalty == 1\n",
    "        final_predicted_tp.append(predicted_values_TP[i]/2) # dividing the predicted delivery fee by 2 inorder to avail the discount.\n",
    "    else:\n",
    "        # Else condition for customer loyalty == 0 \n",
    "        # The predicted values are appended as it is , as there are no discounts for loyalty 0\n",
    "        final_predicted_tp.append(predicted_values_TP[i])\n",
    "        \n",
    "\n",
    "\n",
    "\n",
    "\n",
    "\n",
    "\n",
    "\n",
    "\n",
    "# Creating a new column for the predicted delivery fee\n",
    "TP_outlier['predicted_delivery_fee'] = final_predicted_tp\n",
    "\n",
    "\n",
    "# computing the residuals by subtracting the predicted from actual \n",
    "\n",
    "# residual = actual  - predicted\n",
    "TP_outlier['residuals'] = TP_outlier['delivery_fee'] - TP_outlier['predicted_delivery_fee']\n",
    "\n",
    "\n",
    "\n",
    "\n",
    "\n",
    "\n",
    "\n",
    "\n",
    "\n",
    "\n",
    "\n",
    "\n",
    "q1 = TP_outlier['residuals'].quantile(0.25)  # Computing the First Quartile for residuals\n",
    "q3 = TP_outlier['residuals'].quantile(0.75)  # Computing the Third Quartile for residuals \n",
    "iqr = q3 - q1 # Computing the IQR\n",
    "fence_low  = q1-1.5*iqr # computing the lower fence\n",
    "fence_high = q3+1.5*iqr  # Computing the upper fence\n",
    "\n",
    "print(\"Upper Fence for TP is : \",fence_high) # printing upper fence\n",
    "print(\"Lowerfence for TP is : \",fence_low) # pringint the lower fence \n",
    "print(\"iqr for TP is :\",iqr) # printing the Inter Quartile Range "
   ]
  },
  {
   "cell_type": "markdown",
   "metadata": {},
   "source": [
    "##  Retriving the outlier indexes  for TP : "
   ]
  },
  {
   "cell_type": "code",
   "execution_count": 104,
   "metadata": {},
   "outputs": [
    {
     "name": "stdout",
     "output_type": "stream",
     "text": [
      "The number of outliers for TP are :  8\n"
     ]
    }
   ],
   "source": [
    "# Storing the outlier indexes in a variable as a list using the outlier index() function\n",
    "TP_outlier_index = outlierindex(TP_outlier,'residuals')\n",
    "print(\"The number of outliers for TP are : \" , len(TP_outlier_index)) # printing the number of outliers for TP \n"
   ]
  },
  {
   "cell_type": "markdown",
   "metadata": {},
   "source": [
    "# Exploratory Data Analysis for TP : \n",
    "\n",
    "\n",
    "\n",
    "\n",
    "### Box plot for TP Branch"
   ]
  },
  {
   "cell_type": "code",
   "execution_count": 105,
   "metadata": {},
   "outputs": [
    {
     "data": {
      "image/png": "[encoded data removed]",
      "text/plain": [
       "<Figure size 1440x576 with 1 Axes>"
      ]
     },
     "metadata": {
      "needs_background": "light"
     },
     "output_type": "display_data"
    }
   ],
   "source": [
    "TP_outlier.boxplot('residuals',figsize=(20,8)) # Function to plot the boxplot\n",
    "plt.title('Outliers for TP Branch') # plt.title() to set the title\n",
    "plt.xlabel('Residuals ') # Function to Set the x axis label\n",
    "plt.ylabel('Values') # Function to set the y axis label\n",
    "plt.show() # function to show the plot "
   ]
  },
  {
   "cell_type": "code",
   "execution_count": 106,
   "metadata": {},
   "outputs": [],
   "source": [
    "# Adding the residuals to the residual list for TP "
   ]
  },
  {
   "cell_type": "code",
   "execution_count": 107,
   "metadata": {},
   "outputs": [],
   "source": [
    "# Iterating through the faulty indexes of NS Branch to  add the residuals in the corresponding index of the NS Branch\n",
    "TP_residuals =  list(TP_outlier.residuals)\n",
    "for i in range(len(tpindexes)): \n",
    "    residual_list[tpindexes[i]] = TP_residuals[i]  # adding the residuals into the desired positions "
   ]
  },
  {
   "cell_type": "markdown",
   "metadata": {},
   "source": [
    "It can be observed from the boxplot that the outliers are concentrated below the lower fence , rather than above the upper fence."
   ]
  },
  {
   "cell_type": "markdown",
   "metadata": {},
   "source": [
    "### Scatter plot for TP Branch : "
   ]
  },
  {
   "cell_type": "code",
   "execution_count": 108,
   "metadata": {},
   "outputs": [
    {
     "data": {
      "image/png": "[encoded data removed]",
      "text/plain": [
       "<Figure size 1080x360 with 1 Axes>"
      ]
     },
     "metadata": {
      "needs_background": "light"
     },
     "output_type": "display_data"
    }
   ],
   "source": [
    "plt.figure(figsize=(15,5))\n",
    "plt.scatter(TP_outlier.delivery_fee,TP_outlier.predicted_delivery_fee)\n",
    "plt.grid()\n",
    "plt.xlabel(\"Actual Delivery Fee \")\n",
    "plt.ylabel(\"Predicted Delivery Fee \")\n",
    "\n",
    "plt.title(\"Actual Delivery Fee vs Predcited Delivery Fee For TP Branch \")\n",
    "\n",
    "\n",
    "plt.show()"
   ]
  },
  {
   "cell_type": "markdown",
   "metadata": {},
   "source": [
    "It can be interpreted from the graph that the relation between the actual value and the predicted value is fairly linear\n",
    "hence the model is a good fit ."
   ]
  },
  {
   "cell_type": "markdown",
   "metadata": {},
   "source": [
    "### Step 5 :  Computing the Total Outliers : "
   ]
  },
  {
   "cell_type": "code",
   "execution_count": 109,
   "metadata": {},
   "outputs": [
    {
     "name": "stdout",
     "output_type": "stream",
     "text": [
      " The total outliers are :  32\n"
     ]
    }
   ],
   "source": [
    "totaloutlierindex = ns_outlier_index + bk_outlier_index + TP_outlier_index\n",
    "print(\" The total outliers are : \", len(totaloutlierindex))"
   ]
  },
  {
   "cell_type": "code",
   "execution_count": 110,
   "metadata": {},
   "outputs": [],
   "source": [
    "outliers1['residuals'] = residual_list"
   ]
  },
  {
   "cell_type": "markdown",
   "metadata": {},
   "source": [
    "## Dropping the outlier rows  : "
   ]
  },
  {
   "cell_type": "code",
   "execution_count": 111,
   "metadata": {},
   "outputs": [],
   "source": [
    "outliersfinal = outliers1.drop(outliers1.index[totaloutlierindex])"
   ]
  },
  {
   "cell_type": "code",
   "execution_count": 112,
   "metadata": {},
   "outputs": [
    {
     "name": "stdout",
     "output_type": "stream",
     "text": [
      " The length of the data frame before dropping the outlier rows are :  500\n"
     ]
    }
   ],
   "source": [
    "print( \" The length of the data frame before dropping the outlier rows are : \",len(outliers1))"
   ]
  },
  {
   "cell_type": "code",
   "execution_count": 113,
   "metadata": {},
   "outputs": [
    {
     "name": "stdout",
     "output_type": "stream",
     "text": [
      "The length of the outlier rows after dropping the outlier rows are :  468\n"
     ]
    }
   ],
   "source": [
    "print(\"The length of the outlier rows after dropping the outlier rows are : \",len(outliersfinal))"
   ]
  },
  {
   "cell_type": "code",
   "execution_count": 114,
   "metadata": {},
   "outputs": [
    {
     "data": {
      "image/png": "[encoded data removed]",
      "text/plain": [
       "<Figure size 1080x360 with 1 Axes>"
      ]
     },
     "metadata": {
      "needs_background": "light"
     },
     "output_type": "display_data"
    }
   ],
   "source": [
    "\n",
    "outliersfinal.boxplot(column='residuals',by='branch_code',figsize=(15,5))\n",
    "plt.title('Boxplot for the entire Residuals ')\n",
    "\n",
    "plt.ylabel('Residual Values')\n",
    "\n",
    "plt.show()"
   ]
  },
  {
   "cell_type": "markdown",
   "metadata": {},
   "source": [
    "It can be seen from the boxplot that most of the  outliers  in all the branches are removed. "
   ]
  },
  {
   "cell_type": "markdown",
   "metadata": {},
   "source": [
    "###  Saving the Dataframes as CSV Files"
   ]
  },
  {
   "cell_type": "markdown",
   "metadata": {},
   "source": [
    "### Group069_dirty_data_solution"
   ]
  },
  {
   "cell_type": "code",
   "execution_count": 116,
   "metadata": {},
   "outputs": [],
   "source": [
    "## Dropping timeofday, weekendorweekday,predictedvalues,residuals from dirty_data and storing into a new dataframe\n",
    "clean_dirty_data=dirty_data.drop(['timeofday','weekendorweekday','predictedvalues','Residuals'],axis=1)"
   ]
  },
  {
   "cell_type": "code",
   "execution_count": 117,
   "metadata": {},
   "outputs": [],
   "source": [
    "#writing this data format by using DataFrame.to_csv() method\n",
    "clean_dirty_data.to_csv('Group069_dirty_data_solution.csv',index=None)"
   ]
  },
  {
   "cell_type": "markdown",
   "metadata": {},
   "source": [
    "### Group069_missing_data_solution"
   ]
  },
  {
   "cell_type": "code",
   "execution_count": 118,
   "metadata": {},
   "outputs": [],
   "source": [
    "## Dropping timeofday, weekendorweekday,original_fee from dirty_data and storing into a new dataframe\n",
    "clean_missing_data=missing_data.drop(['original_fee','weekendorweekday','timeofday'],axis=1)"
   ]
  },
  {
   "cell_type": "code",
   "execution_count": 119,
   "metadata": {},
   "outputs": [],
   "source": [
    "#writing this data format by using DataFrame.to_csv() method\n",
    "clean_missing_data.to_csv('Group069_missing_data_solution.csv',index=None)"
   ]
  },
  {
   "cell_type": "markdown",
   "metadata": {},
   "source": [
    "### Group069_missing_data_solution"
   ]
  },
  {
   "cell_type": "code",
   "execution_count": 120,
   "metadata": {},
   "outputs": [],
   "source": [
    "## Dropping timeofday, weekendorweekday,original_fee from outlier and storing into a new dataframe\n",
    "clean_outlier_data = outliersfinal.drop(['timeofday','weekendorweekday','orignial_fee','residuals'],axis=1)"
   ]
  },
  {
   "cell_type": "code",
   "execution_count": 121,
   "metadata": {},
   "outputs": [],
   "source": [
    "#writing this data format by using DataFrame.to_csv() method\n",
    "clean_outlier_data.to_csv('Group069_outlier_data_solution.csv',index=None)"
   ]
  },
  {
   "cell_type": "markdown",
   "metadata": {},
   "source": [
    "# Summary:"
   ]
  },
  {
   "cell_type": "markdown",
   "metadata": {},
   "source": [
    "The main tasks of the assignment were : \n",
    "    \n",
    "    i.)  Cleaning the dirty data.\n",
    "    ii.)  Imputing missing values\n",
    "    iii.) Removing th outliers\n",
    "    \n",
    "### i) Cleaning the dirty data : \n",
    "\n",
    "For the cleaning of the dirty data, the pandas dataframes and python regular expressions were used. \n",
    "Also, the Date Time library were used to convert date string to datetime object.\n",
    "\n",
    "\n",
    "Also, there was extensive usage of python collections such as lists, tuples , dictionaries and sets. Also, python\n",
    "conditional statements such as if,elif and else loops were used. Also, iterables such as for loops were used.\n",
    "\n",
    "The order in which the coloumns  were cleaned are : \n",
    "    i) Date coloumn : Date coloumn was cleaning using regex and string operations.\n",
    "    \n",
    "    ii) Ordertype based on time - the order type were set depending on the time. The time was compared to boundary times \n",
    "        for Breakfast and Lunch and Dinner and based on time , the order type were repaired.\n",
    "        \n",
    "    iii) Repairing Branch Code : The branchcode code was first converted into upper case as the initial branch code contains both lower \n",
    "        and upper case . Then based on the order id pattern extracted from outlier dataset the faulty branch codes were replaced with the correct branch codes\n",
    "    \n",
    "    iv) Repairing Order items : Order items were converted into a list of tuples and the faulty order items were replaced with the correct\n",
    "        order items using python collections, conditional statements  and iterrables.\n",
    "        \n",
    "    v) Repairing order price : The order price was repired according to the menu by calculating the price of the corrected order items of that instance \n",
    "        \n",
    "    vi) Repairing latitude and Longitude : The latitude and longitude were interchanged for the faulty rows. For the \n",
    "        latitude the positive co-ordinate value were converted to negative co-ordinate value.\n",
    "        \n",
    "    vii) Fixing Distance to Customer : The distance to customer were computed using the Dijkstra's shortest path length.\n",
    "        \n",
    "### ii) Imputing Missing Data : \n",
    "\n",
    "\n",
    "    i) Missing Branch codes imputation : The branch codes were imputed using the order id pattern extracted in the outlier data.\n",
    "    \n",
    "    ii) Missing distances - The missing distances were computed using the Dijkistra Algorithm\n",
    "    \n",
    "    iii) Missing delivery fee - The missing delivery fee was computed using the linear regression, by passing the not null values\n",
    "    in the training dataset and testing with the missing value data set.\n",
    "    \n",
    "\n",
    "### Correcting Customer Loyalty in dirty data based on the linear model in missing data : \n",
    "The customer loyalty was corrected by predicting the delivery fee using the model fitted in the missing data. \n",
    "The customer loyalty was corrected using the predicted delivery fee. \n",
    "\n",
    "\n",
    "###  iii) Imputing outliers : \n",
    "\n",
    "The outliers were imputed using the linear regression model fitted in the missing data. \n",
    "\n",
    "The outliers were removed based on the residuals ( Actual - Predicted Values)\n",
    "\n",
    "\n",
    "Overall, this assignment helped us in providing a good understanding about pandas dataframes and its operations, networkx and \n",
    "djikstra algorithm ,Linear Regression, imputation of the missing values , outlier removal and data cleaning."
   ]
  },
  {
   "cell_type": "markdown",
   "metadata": {},
   "source": [
    "# References :"
   ]
  },
  {
   "cell_type": "markdown",
   "metadata": {},
   "source": [
    "- https://pandas.pydata.org/pandas-docs/version/0.25/\n",
    "- https://networkx.github.io/documentation/stable/\n",
    "- https://regexr.com/\n",
    "- https://docs.scipy.org/doc/numpy/reference/generated/numpy.linalg.solve.html#numpy.linalg.solve\n",
    "- https://docs.python.org/3/tutorial/datastructures.html\n",
    "- https://docs.scipy.org/doc/"
   ]
  },
  {
   "cell_type": "code",
   "execution_count": null,
   "metadata": {},
   "outputs": [],
   "source": []
  }
 ],
 "metadata": {
  "kernelspec": {
   "display_name": "Python 3",
   "language": "python",
   "name": "python3"
  },
  "language_info": {
   "codemirror_mode": {
    "name": "ipython",
    "version": 3
   },
   "file_extension": ".py",
   "mimetype": "text/x-python",
   "name": "python",
   "nbconvert_exporter": "python",
   "pygments_lexer": "ipython3",
   "version": "3.8.3"
  }
 },
 "nbformat": 4,
 "nbformat_minor": 2
}
